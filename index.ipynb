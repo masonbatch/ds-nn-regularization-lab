{
 "cells": [
  {
   "cell_type": "markdown",
   "metadata": {},
   "source": [
    "# Regularization and Optimization Lab\n",
    "\n",
    "## Objective\n",
    "\n",
    "In this lab, we'll gain experience detecting and dealing with a ANN model that is overfitting using various regularization and hyperparameter tuning techniques!"
   ]
  },
  {
   "cell_type": "markdown",
   "metadata": {},
   "source": [
    "## Getting Started\n",
    "\n",
    "In this lab, we'll work with a large dataset of customer complaints to a bank, with the goal of predicting what product the customer is complaining about based on the text of their complaint.  There are 7 different possible products that we can predict, making this a multi-class classification task. \n",
    "\n",
    "\n",
    "#### Preprocessing our Data Set\n",
    "We'll start by preprocessing our dataset by tokenizing the complaints and limiting the number of words we consider to reduce dimensionality. \n",
    "\n",
    "#### Building our Tuning our Model\n",
    "Once we have preprocessed our data set, we'll build a model and explore the various ways that we can reduce overfitting using the following strategies:\n",
    "- Early stopping to minimize the discrepancy between train and test accuracy.\n",
    "- L1 and L2 regularization.\n",
    "- Dropout regularization.\n",
    "- Using more data.\n",
    "\n",
    "\n",
    "**_Let's Get Started!_**"
   ]
  },
  {
   "cell_type": "markdown",
   "metadata": {},
   "source": [
    "## 2. Preprocessing the Bank Complaints Data Set"
   ]
  },
  {
   "cell_type": "markdown",
   "metadata": {},
   "source": [
    "### 2.1 Import the libraries and take a sample\n",
    "\n",
    "Run the cell below to import everything we'll need for this lab. "
   ]
  },
  {
   "cell_type": "code",
   "execution_count": 1,
   "metadata": {},
   "outputs": [],
   "source": [
    "import matplotlib.pyplot as plt\n",
    "import pandas as pd\n",
    "import numpy as np\n",
    "from sklearn.model_selection import train_test_split\n",
    "from keras.utils.np_utils import to_categorical\n",
    "from sklearn import preprocessing\n",
    "from keras.preprocessing.text import Tokenizer\n",
    "import random\n",
    "random.seed(0)"
   ]
  },
  {
   "cell_type": "markdown",
   "metadata": {},
   "source": [
    "Now, in the cell below, import our data into a DataFrame.  The data is currently stored in `Bank_complaints.csv`.\n",
    "Then, `.describe()` the dataset to get a feel for what we're working with. "
   ]
  },
  {
   "cell_type": "code",
   "execution_count": 2,
   "metadata": {},
   "outputs": [],
   "source": [
    "df =  pd.read_csv('Bank_complaints.csv')"
   ]
  },
  {
   "cell_type": "markdown",
   "metadata": {},
   "source": [
    "In order to speed things up during the development process (and also to give us the ability to see how adding more data affects our model performance), we're going to work with a sample of our dataset rather than the whole thing.  The entire dataset consists of 60,000 rows--we're going to build a model using only 10,000 items randomly sampled from this.\n",
    "\n",
    "In the cell below:\n",
    "\n",
    "* Get a random sample of `10000` items from our dataset (HINT: use the `df` object's `.sample()` method to make this easy)\n",
    "* Reset the indexes on these samples to `range(10000)`, so that the indices for our rows are sequential and make sense.\n",
    "* Store our labels, which are found in `\"Product\"`, in a different variable.\n",
    "* Store the data, found in `\"Consumer complaint narrative`, in the variable `complaints`."
   ]
  },
  {
   "cell_type": "code",
   "execution_count": 3,
   "metadata": {},
   "outputs": [],
   "source": [
    "df = df.sample(10000)\n",
    "df.index = range(10000)\n",
    "product = df['Product']\n",
    "complaints = df['Consumer complaint narrative']"
   ]
  },
  {
   "cell_type": "markdown",
   "metadata": {},
   "source": [
    "### 2.2 Tokenizing the Complaints"
   ]
  },
  {
   "cell_type": "markdown",
   "metadata": {},
   "source": [
    "We'll only keep 2,000 most common words and use one-hot encoding to quickly vectorize our dataset from text into a format that a neural network can work with. \n",
    "\n",
    "In the cell below:\n",
    "\n",
    "* Create a `Tokenizer()` object, and set the `num_words` parameter to `2000`.\n",
    "* Call the tokenizer object's `fit_on_texts()` method and pass in our `complaints` variable we created above. \n"
   ]
  },
  {
   "cell_type": "code",
   "execution_count": 4,
   "metadata": {},
   "outputs": [],
   "source": [
    "tokenizer = Tokenizer(num_words=2000)\n",
    "tokenizer.fit_on_texts(complaints)"
   ]
  },
  {
   "cell_type": "markdown",
   "metadata": {},
   "source": [
    "Now, we'll create some text sequences by calling the `tokenizer` object's `.texts_to_sequences()` method and feeding in our `complaints` object."
   ]
  },
  {
   "cell_type": "code",
   "execution_count": 5,
   "metadata": {},
   "outputs": [],
   "source": [
    "sequences = tokenizer.texts_to_sequences(complaints)"
   ]
  },
  {
   "cell_type": "markdown",
   "metadata": {},
   "source": [
    "Finally, we'll convert our text data from text to a vectorized matrix.  \n",
    "\n",
    "In the cell below:\n",
    "\n",
    "* Call the `tokenizer` object's `.texts_to_matrix` method, passing in our `complaints` variable, as well as setting the `mode` parameter equal to `'binary'`.\n",
    "* Store the tokenizer's `.word_index` in the appropriate variable.\n",
    "* Check the `np.shape()` of our `one_hot_results`."
   ]
  },
  {
   "cell_type": "code",
   "execution_count": 7,
   "metadata": {},
   "outputs": [
    {
     "data": {
      "text/plain": [
       "(10000, 2000)"
      ]
     },
     "execution_count": 7,
     "metadata": {},
     "output_type": "execute_result"
    }
   ],
   "source": [
    "one_hot_results= tokenizer.texts_to_matrix(complaints, mode = 'binary')\n",
    "word_index = tokenizer.word_index\n",
    "np.shape(one_hot_results) # Expected Results (10000, 2000)"
   ]
  },
  {
   "cell_type": "markdown",
   "metadata": {},
   "source": [
    "### 2.3 One-hot Encoding of the Products Column"
   ]
  },
  {
   "cell_type": "markdown",
   "metadata": {},
   "source": [
    "Now that we've tokenized and encoded our text data, we still need to one-hot encode our label data.  \n",
    "\n",
    "In the cell below:\n",
    "\n",
    "\n",
    "* Create a `LabelEncoder` object, which can found inside the `preprocessing` module.\n",
    "* `fit` the label encoder we just created to `product`."
   ]
  },
  {
   "cell_type": "code",
   "execution_count": 8,
   "metadata": {},
   "outputs": [
    {
     "data": {
      "text/plain": [
       "LabelEncoder()"
      ]
     },
     "execution_count": 8,
     "metadata": {},
     "output_type": "execute_result"
    }
   ],
   "source": [
    "le = preprocessing.LabelEncoder()\n",
    "le.fit(product)"
   ]
  },
  {
   "cell_type": "markdown",
   "metadata": {},
   "source": [
    "Let's check what classes our label encoder found.  Run the cell below to examine a list of classes that `product` contains."
   ]
  },
  {
   "cell_type": "code",
   "execution_count": 9,
   "metadata": {},
   "outputs": [
    {
     "data": {
      "text/plain": [
       "['Bank account or service',\n",
       " 'Checking or savings account',\n",
       " 'Consumer Loan',\n",
       " 'Credit card',\n",
       " 'Credit reporting',\n",
       " 'Mortgage',\n",
       " 'Student loan']"
      ]
     },
     "execution_count": 9,
     "metadata": {},
     "output_type": "execute_result"
    }
   ],
   "source": [
    " list(le.classes_)"
   ]
  },
  {
   "cell_type": "markdown",
   "metadata": {},
   "source": [
    "Now, we'll need to transform `product` into a numeric vector.  \n",
    "\n",
    "In the cell below, use the label encoder's `.transform` method on `product` to create an integer encoded version of our labels. \n",
    "\n",
    "Then, access `product_cat` to see an example of how the labels are now encoded. "
   ]
  },
  {
   "cell_type": "code",
   "execution_count": 10,
   "metadata": {},
   "outputs": [
    {
     "data": {
      "text/plain": [
       "array([6, 6, 6, ..., 3, 1, 5])"
      ]
     },
     "execution_count": 10,
     "metadata": {},
     "output_type": "execute_result"
    }
   ],
   "source": [
    "product_cat = le.transform(product)\n",
    "product_cat"
   ]
  },
  {
   "cell_type": "markdown",
   "metadata": {},
   "source": [
    "Now, we need to go from integer encoding to one-hot encoding.  Use the `to_categorical` method from keras to do this easily in the cell below."
   ]
  },
  {
   "cell_type": "code",
   "execution_count": 13,
   "metadata": {},
   "outputs": [],
   "source": [
    "product_onehot = to_categorical(product_cat)"
   ]
  },
  {
   "cell_type": "code",
   "execution_count": 14,
   "metadata": {},
   "outputs": [
    {
     "data": {
      "text/plain": [
       "array([[0., 0., 0., ..., 0., 0., 1.],\n",
       "       [0., 0., 0., ..., 0., 0., 1.],\n",
       "       [0., 0., 0., ..., 0., 0., 1.],\n",
       "       ...,\n",
       "       [0., 0., 0., ..., 0., 0., 0.],\n",
       "       [0., 1., 0., ..., 0., 0., 0.],\n",
       "       [0., 0., 0., ..., 0., 1., 0.]], dtype=float32)"
      ]
     },
     "execution_count": 14,
     "metadata": {},
     "output_type": "execute_result"
    }
   ],
   "source": [
    "product_onehot"
   ]
  },
  {
   "cell_type": "markdown",
   "metadata": {},
   "source": [
    "Finally, let's check the shape of our one-hot encoded labels to make sure everything worked correctly."
   ]
  },
  {
   "cell_type": "code",
   "execution_count": null,
   "metadata": {},
   "outputs": [],
   "source": [
    "np.shape(product_onehot) # Expected Output: (10000, 7)"
   ]
  },
  {
   "cell_type": "markdown",
   "metadata": {},
   "source": [
    "### 2.4 Train - test split\n",
    "\n",
    "Now, we'll split our data into training and testing sets.  \n",
    "\n",
    "\n",
    "We'll accomplish this by generating a random list of 1500 different indices between 1 and 10000.  Then, we'll slice these rows and store them as our test set, and delete them from the training set (it's very important to remember to remove them from the training set!)\n",
    "\n",
    "Run the cell below to create a set of random indices for our test set. "
   ]
  },
  {
   "cell_type": "code",
   "execution_count": 15,
   "metadata": {},
   "outputs": [],
   "source": [
    "test_index = random.sample(range(1,10000), 1500)"
   ]
  },
  {
   "cell_type": "markdown",
   "metadata": {},
   "source": [
    "Now:\n",
    "\n",
    "* Slice the `test_index` rows from `one_hot_results` and store them in `test`."
   ]
  },
  {
   "cell_type": "code",
   "execution_count": 16,
   "metadata": {},
   "outputs": [],
   "source": [
    "test = one_hot_results[test_index]\n",
    "\n",
    "# This line returns a version of our one_hot_results that has every item with an index in test_index removed\n",
    "train = np.delete(one_hot_results, test_index, 0)"
   ]
  },
  {
   "cell_type": "markdown",
   "metadata": {},
   "source": [
    "Now, we'll need to repeat the splitting process on our labels, making sure that we use the same indices we used to split our data. \n",
    "\n",
    "In the cell below:\n",
    "\n",
    "* Slice `test_index` from `product_onehot`\n",
    "* Use `np.delete` to remove `test_index` items from `product_onehot` (the syntax is exactly the same above)"
   ]
  },
  {
   "cell_type": "code",
   "execution_count": 17,
   "metadata": {},
   "outputs": [],
   "source": [
    "label_test = product_onehot[test_index]\n",
    "label_train = np.delete(product_onehot, test_index, 0)"
   ]
  },
  {
   "cell_type": "markdown",
   "metadata": {},
   "source": [
    "Now, let's examine the shape everything we just did to make sure that the dimensions match up.  \n",
    "\n",
    "In the cell below, use `np.shape` to check the shape of:\n",
    "\n",
    "* `label_test`\n",
    "* `label_train`\n",
    "* `test`\n",
    "* `train`"
   ]
  },
  {
   "cell_type": "code",
   "execution_count": 19,
   "metadata": {},
   "outputs": [
    {
     "name": "stdout",
     "output_type": "stream",
     "text": [
      "(1500, 7)\n",
      "(8500, 7)\n",
      "(1500, 2000)\n",
      "(8500, 2000)\n"
     ]
    }
   ],
   "source": [
    "print(np.shape(label_test)) # Expected Output: (1500, 7)\n",
    "print(np.shape(label_train)) # Expected Output: (8500, 7)\n",
    "print(np.shape(test)) # Expected Output: (1500, 2000)\n",
    "print(np.shape(train)) # Expected Output: (8500, 2000)"
   ]
  },
  {
   "cell_type": "markdown",
   "metadata": {},
   "source": [
    "## 3. Running the model using a validation set."
   ]
  },
  {
   "cell_type": "markdown",
   "metadata": {},
   "source": [
    "### 3.1 Creating the validation set"
   ]
  },
  {
   "cell_type": "markdown",
   "metadata": {},
   "source": [
    "In the lecture we mentioned that in deep learning, we generally keep aside a validation set, which is used during hyperparameter tuning. Then when we have made the final model decision, the test set is used to define the final model perforance. \n",
    "\n",
    "In this example, let's take the first 1000 cases out of the training set to become the validation set. You should do this for both `train` and `label_train`.\n",
    "\n",
    "Run the cell below to create our validation set. "
   ]
  },
  {
   "cell_type": "code",
   "execution_count": 21,
   "metadata": {},
   "outputs": [],
   "source": [
    "random.seed(123)\n",
    "val = train[:1000]\n",
    "train_final = train[1000:]\n",
    "label_val = label_train[:1000]\n",
    "label_train_final = label_train[1000:]"
   ]
  },
  {
   "cell_type": "markdown",
   "metadata": {},
   "source": [
    "### 3.2 Creating, compiling and running the model"
   ]
  },
  {
   "cell_type": "markdown",
   "metadata": {},
   "source": [
    "Let's rebuild a fully connected (Dense) layer network with relu activations in Keras."
   ]
  },
  {
   "cell_type": "markdown",
   "metadata": {},
   "source": [
    "Recall that we used 2 hidden with 50 units in the first layer and 25 in the second, both with a `relu` activation function. Because we are dealing with a multiclass problem (classifying the complaints into 7 classes), we use a use a softmax classifyer in order to output 7 class probabilities per case.\n",
    "\n",
    "In the cell below:\n",
    "\n",
    "* Import `Sequential` from the appropriate module in keras.\n",
    "* Import `Dense` from the appropriate module in keras."
   ]
  },
  {
   "cell_type": "code",
   "execution_count": 22,
   "metadata": {},
   "outputs": [],
   "source": [
    "from keras.models import Sequential\n",
    "from keras.layers import Dense"
   ]
  },
  {
   "cell_type": "markdown",
   "metadata": {},
   "source": [
    "Now, build a model with the following specifications in the cell below:\n",
    "\n",
    "* An input layer of shape `(2000,)`\n",
    "* Hidden layer 1: Dense, 50 neurons, relu activation \n",
    "* Hidden layer 2: Dense, 25 neurons, relu activation\n",
    "* Output layer: Dense, 7 neurons, softmax activation"
   ]
  },
  {
   "cell_type": "code",
   "execution_count": 23,
   "metadata": {},
   "outputs": [],
   "source": [
    "model = Sequential()\n",
    "model.add(Dense(50, activation = 'relu', input_shape = (2000, ))) \n",
    "model.add(Dense(25, activation = 'relu'))\n",
    "model.add(Dense(7, activation = 'softmax'))"
   ]
  },
  {
   "cell_type": "markdown",
   "metadata": {},
   "source": [
    "In the cell below, `compile` the model with the following settings:\n",
    "\n",
    "* Optimizer is `\"SGD\"`\n",
    "* Loss is `'categorical_crossentropy'`\n",
    "* metrics is `['accuracy']`"
   ]
  },
  {
   "cell_type": "code",
   "execution_count": 24,
   "metadata": {},
   "outputs": [],
   "source": [
    "model.compile(optimizer='SGD',\n",
    "              loss='categorical_crossentropy',\n",
    "              metrics=['accuracy'])"
   ]
  },
  {
   "cell_type": "markdown",
   "metadata": {},
   "source": [
    "Now, Train the model for 120 epochs in mini-batches of 256 samples. Also pass in `(val, label_val)` to the `validation_data` parameter, so that we see how our model does on the test set after every epoch. "
   ]
  },
  {
   "cell_type": "code",
   "execution_count": 25,
   "metadata": {},
   "outputs": [
    {
     "name": "stdout",
     "output_type": "stream",
     "text": [
      "Epoch 1/120\n",
      "30/30 [==============================] - 0s 8ms/step - loss: 1.9576 - accuracy: 0.1521 - val_loss: 1.9426 - val_accuracy: 0.1720\n",
      "Epoch 2/120\n",
      "30/30 [==============================] - 0s 3ms/step - loss: 1.9352 - accuracy: 0.1776 - val_loss: 1.9260 - val_accuracy: 0.2130\n",
      "Epoch 3/120\n",
      "30/30 [==============================] - 0s 3ms/step - loss: 1.9182 - accuracy: 0.2065 - val_loss: 1.9116 - val_accuracy: 0.2170\n",
      "Epoch 4/120\n",
      "30/30 [==============================] - 0s 3ms/step - loss: 1.9017 - accuracy: 0.2337 - val_loss: 1.8957 - val_accuracy: 0.2390\n",
      "Epoch 5/120\n",
      "30/30 [==============================] - 0s 3ms/step - loss: 1.8830 - accuracy: 0.2577 - val_loss: 1.8746 - val_accuracy: 0.2690\n",
      "Epoch 6/120\n",
      "30/30 [==============================] - 0s 4ms/step - loss: 1.8592 - accuracy: 0.2885 - val_loss: 1.8484 - val_accuracy: 0.3000\n",
      "Epoch 7/120\n",
      "30/30 [==============================] - 0s 3ms/step - loss: 1.8302 - accuracy: 0.3163 - val_loss: 1.8169 - val_accuracy: 0.3260\n",
      "Epoch 8/120\n",
      "30/30 [==============================] - 0s 3ms/step - loss: 1.7959 - accuracy: 0.3461 - val_loss: 1.7818 - val_accuracy: 0.3520\n",
      "Epoch 9/120\n",
      "30/30 [==============================] - 0s 3ms/step - loss: 1.7570 - accuracy: 0.3768 - val_loss: 1.7412 - val_accuracy: 0.3700\n",
      "Epoch 10/120\n",
      "30/30 [==============================] - 0s 3ms/step - loss: 1.7141 - accuracy: 0.4031 - val_loss: 1.6981 - val_accuracy: 0.4090\n",
      "Epoch 11/120\n",
      "30/30 [==============================] - 0s 3ms/step - loss: 1.6681 - accuracy: 0.4337 - val_loss: 1.6519 - val_accuracy: 0.4190\n",
      "Epoch 12/120\n",
      "30/30 [==============================] - 0s 3ms/step - loss: 1.6196 - accuracy: 0.4512 - val_loss: 1.6056 - val_accuracy: 0.4420\n",
      "Epoch 13/120\n",
      "30/30 [==============================] - 0s 3ms/step - loss: 1.5697 - accuracy: 0.4716 - val_loss: 1.5556 - val_accuracy: 0.4610\n",
      "Epoch 14/120\n",
      "30/30 [==============================] - 0s 3ms/step - loss: 1.5190 - accuracy: 0.4877 - val_loss: 1.5045 - val_accuracy: 0.4780\n",
      "Epoch 15/120\n",
      "30/30 [==============================] - 0s 3ms/step - loss: 1.4685 - accuracy: 0.5027 - val_loss: 1.4545 - val_accuracy: 0.4990\n",
      "Epoch 16/120\n",
      "30/30 [==============================] - 0s 3ms/step - loss: 1.4182 - accuracy: 0.5181 - val_loss: 1.4042 - val_accuracy: 0.5210\n",
      "Epoch 17/120\n",
      "30/30 [==============================] - 0s 3ms/step - loss: 1.3690 - accuracy: 0.5339 - val_loss: 1.3573 - val_accuracy: 0.5370\n",
      "Epoch 18/120\n",
      "30/30 [==============================] - 0s 3ms/step - loss: 1.3217 - accuracy: 0.5445 - val_loss: 1.3122 - val_accuracy: 0.5440\n",
      "Epoch 19/120\n",
      "30/30 [==============================] - 0s 3ms/step - loss: 1.2764 - accuracy: 0.5671 - val_loss: 1.2693 - val_accuracy: 0.5560\n",
      "Epoch 20/120\n",
      "30/30 [==============================] - 0s 3ms/step - loss: 1.2331 - accuracy: 0.5760 - val_loss: 1.2291 - val_accuracy: 0.5610\n",
      "Epoch 21/120\n",
      "30/30 [==============================] - 0s 3ms/step - loss: 1.1924 - accuracy: 0.5895 - val_loss: 1.1895 - val_accuracy: 0.5760\n",
      "Epoch 22/120\n",
      "30/30 [==============================] - 0s 3ms/step - loss: 1.1541 - accuracy: 0.6051 - val_loss: 1.1554 - val_accuracy: 0.5870\n",
      "Epoch 23/120\n",
      "30/30 [==============================] - 0s 3ms/step - loss: 1.1182 - accuracy: 0.6148 - val_loss: 1.1219 - val_accuracy: 0.6030\n",
      "Epoch 24/120\n",
      "30/30 [==============================] - 0s 3ms/step - loss: 1.0842 - accuracy: 0.6292 - val_loss: 1.0897 - val_accuracy: 0.6220\n",
      "Epoch 25/120\n",
      "30/30 [==============================] - 0s 3ms/step - loss: 1.0526 - accuracy: 0.6425 - val_loss: 1.0605 - val_accuracy: 0.6300\n",
      "Epoch 26/120\n",
      "30/30 [==============================] - 0s 3ms/step - loss: 1.0230 - accuracy: 0.6529 - val_loss: 1.0378 - val_accuracy: 0.6390\n",
      "Epoch 27/120\n",
      "30/30 [==============================] - 0s 3ms/step - loss: 0.9953 - accuracy: 0.6636 - val_loss: 1.0115 - val_accuracy: 0.6420\n",
      "Epoch 28/120\n",
      "30/30 [==============================] - 0s 3ms/step - loss: 0.9689 - accuracy: 0.6759 - val_loss: 0.9865 - val_accuracy: 0.6590\n",
      "Epoch 29/120\n",
      "30/30 [==============================] - 0s 3ms/step - loss: 0.9440 - accuracy: 0.6847 - val_loss: 0.9658 - val_accuracy: 0.6670\n",
      "Epoch 30/120\n",
      "30/30 [==============================] - 0s 3ms/step - loss: 0.9205 - accuracy: 0.6944 - val_loss: 0.9464 - val_accuracy: 0.6670\n",
      "Epoch 31/120\n",
      "30/30 [==============================] - 0s 3ms/step - loss: 0.8982 - accuracy: 0.7001 - val_loss: 0.9319 - val_accuracy: 0.6680\n",
      "Epoch 32/120\n",
      "30/30 [==============================] - 0s 3ms/step - loss: 0.8772 - accuracy: 0.7087 - val_loss: 0.9110 - val_accuracy: 0.6710\n",
      "Epoch 33/120\n",
      "30/30 [==============================] - 0s 3ms/step - loss: 0.8575 - accuracy: 0.7136 - val_loss: 0.8916 - val_accuracy: 0.6820\n",
      "Epoch 34/120\n",
      "30/30 [==============================] - 0s 3ms/step - loss: 0.8385 - accuracy: 0.7195 - val_loss: 0.8792 - val_accuracy: 0.6780\n",
      "Epoch 35/120\n",
      "30/30 [==============================] - 0s 3ms/step - loss: 0.8209 - accuracy: 0.7248 - val_loss: 0.8631 - val_accuracy: 0.6900\n",
      "Epoch 36/120\n",
      "30/30 [==============================] - 0s 3ms/step - loss: 0.8039 - accuracy: 0.7323 - val_loss: 0.8506 - val_accuracy: 0.6930\n",
      "Epoch 37/120\n",
      "30/30 [==============================] - 0s 3ms/step - loss: 0.7878 - accuracy: 0.7349 - val_loss: 0.8362 - val_accuracy: 0.6970\n",
      "Epoch 38/120\n",
      "30/30 [==============================] - 0s 3ms/step - loss: 0.7729 - accuracy: 0.7405 - val_loss: 0.8249 - val_accuracy: 0.6980\n",
      "Epoch 39/120\n",
      "30/30 [==============================] - 0s 3ms/step - loss: 0.7589 - accuracy: 0.7425 - val_loss: 0.8149 - val_accuracy: 0.6980\n",
      "Epoch 40/120\n",
      "30/30 [==============================] - 0s 3ms/step - loss: 0.7452 - accuracy: 0.7473 - val_loss: 0.8035 - val_accuracy: 0.7060\n",
      "Epoch 41/120\n",
      "30/30 [==============================] - 0s 3ms/step - loss: 0.7328 - accuracy: 0.7503 - val_loss: 0.7934 - val_accuracy: 0.7150\n",
      "Epoch 42/120\n",
      "30/30 [==============================] - 0s 3ms/step - loss: 0.7209 - accuracy: 0.7521 - val_loss: 0.7830 - val_accuracy: 0.7190\n",
      "Epoch 43/120\n",
      "30/30 [==============================] - 0s 3ms/step - loss: 0.7093 - accuracy: 0.7567 - val_loss: 0.7771 - val_accuracy: 0.7120\n",
      "Epoch 44/120\n",
      "30/30 [==============================] - 0s 3ms/step - loss: 0.6986 - accuracy: 0.7581 - val_loss: 0.7692 - val_accuracy: 0.7240\n",
      "Epoch 45/120\n",
      "30/30 [==============================] - 0s 3ms/step - loss: 0.6885 - accuracy: 0.7641 - val_loss: 0.7611 - val_accuracy: 0.7220\n",
      "Epoch 46/120\n",
      "30/30 [==============================] - 0s 3ms/step - loss: 0.6791 - accuracy: 0.7636 - val_loss: 0.7533 - val_accuracy: 0.7300\n",
      "Epoch 47/120\n",
      "30/30 [==============================] - 0s 3ms/step - loss: 0.6697 - accuracy: 0.7679 - val_loss: 0.7493 - val_accuracy: 0.7260\n",
      "Epoch 48/120\n",
      "30/30 [==============================] - 0s 3ms/step - loss: 0.6604 - accuracy: 0.7699 - val_loss: 0.7470 - val_accuracy: 0.7240\n",
      "Epoch 49/120\n",
      "30/30 [==============================] - 0s 3ms/step - loss: 0.6527 - accuracy: 0.7737 - val_loss: 0.7381 - val_accuracy: 0.7280\n",
      "Epoch 50/120\n",
      "30/30 [==============================] - 0s 3ms/step - loss: 0.6443 - accuracy: 0.7779 - val_loss: 0.7323 - val_accuracy: 0.7300\n",
      "Epoch 51/120\n",
      "30/30 [==============================] - 0s 3ms/step - loss: 0.6368 - accuracy: 0.7793 - val_loss: 0.7303 - val_accuracy: 0.7250\n",
      "Epoch 52/120\n",
      "30/30 [==============================] - 0s 3ms/step - loss: 0.6291 - accuracy: 0.7819 - val_loss: 0.7200 - val_accuracy: 0.7350\n",
      "Epoch 53/120\n",
      "30/30 [==============================] - 0s 3ms/step - loss: 0.6219 - accuracy: 0.7851 - val_loss: 0.7173 - val_accuracy: 0.7390\n",
      "Epoch 54/120\n",
      "30/30 [==============================] - 0s 3ms/step - loss: 0.6149 - accuracy: 0.7879 - val_loss: 0.7136 - val_accuracy: 0.7350\n",
      "Epoch 55/120\n",
      "30/30 [==============================] - 0s 3ms/step - loss: 0.6082 - accuracy: 0.7895 - val_loss: 0.7094 - val_accuracy: 0.7410\n",
      "Epoch 56/120\n",
      "30/30 [==============================] - 0s 3ms/step - loss: 0.6016 - accuracy: 0.7921 - val_loss: 0.7078 - val_accuracy: 0.7340\n",
      "Epoch 57/120\n",
      "30/30 [==============================] - 0s 3ms/step - loss: 0.5953 - accuracy: 0.7945 - val_loss: 0.7032 - val_accuracy: 0.7370\n",
      "Epoch 58/120\n",
      "30/30 [==============================] - 0s 3ms/step - loss: 0.5896 - accuracy: 0.7957 - val_loss: 0.7005 - val_accuracy: 0.7420\n"
     ]
    },
    {
     "name": "stdout",
     "output_type": "stream",
     "text": [
      "Epoch 59/120\n",
      "30/30 [==============================] - 0s 3ms/step - loss: 0.5830 - accuracy: 0.7981 - val_loss: 0.7003 - val_accuracy: 0.7370\n",
      "Epoch 60/120\n",
      "30/30 [==============================] - 0s 3ms/step - loss: 0.5769 - accuracy: 0.7983 - val_loss: 0.6927 - val_accuracy: 0.7490\n",
      "Epoch 61/120\n",
      "30/30 [==============================] - 0s 3ms/step - loss: 0.5715 - accuracy: 0.8044 - val_loss: 0.6897 - val_accuracy: 0.7400\n",
      "Epoch 62/120\n",
      "30/30 [==============================] - 0s 3ms/step - loss: 0.5663 - accuracy: 0.8047 - val_loss: 0.6841 - val_accuracy: 0.7470\n",
      "Epoch 63/120\n",
      "30/30 [==============================] - 0s 3ms/step - loss: 0.5608 - accuracy: 0.8069 - val_loss: 0.6823 - val_accuracy: 0.7500\n",
      "Epoch 64/120\n",
      "30/30 [==============================] - 0s 3ms/step - loss: 0.5559 - accuracy: 0.8075 - val_loss: 0.6832 - val_accuracy: 0.7420\n",
      "Epoch 65/120\n",
      "30/30 [==============================] - 0s 3ms/step - loss: 0.5507 - accuracy: 0.8111 - val_loss: 0.6828 - val_accuracy: 0.7420\n",
      "Epoch 66/120\n",
      "30/30 [==============================] - 0s 3ms/step - loss: 0.5453 - accuracy: 0.8119 - val_loss: 0.6785 - val_accuracy: 0.7450\n",
      "Epoch 67/120\n",
      "30/30 [==============================] - 0s 3ms/step - loss: 0.5403 - accuracy: 0.8115 - val_loss: 0.6747 - val_accuracy: 0.7510\n",
      "Epoch 68/120\n",
      "30/30 [==============================] - 0s 3ms/step - loss: 0.5354 - accuracy: 0.8159 - val_loss: 0.6759 - val_accuracy: 0.7550\n",
      "Epoch 69/120\n",
      "30/30 [==============================] - 0s 3ms/step - loss: 0.5310 - accuracy: 0.8164 - val_loss: 0.6728 - val_accuracy: 0.7520\n",
      "Epoch 70/120\n",
      "30/30 [==============================] - 0s 3ms/step - loss: 0.5265 - accuracy: 0.8203 - val_loss: 0.6749 - val_accuracy: 0.7510\n",
      "Epoch 71/120\n",
      "30/30 [==============================] - 0s 3ms/step - loss: 0.5223 - accuracy: 0.8211 - val_loss: 0.6671 - val_accuracy: 0.7550\n",
      "Epoch 72/120\n",
      "30/30 [==============================] - 0s 3ms/step - loss: 0.5172 - accuracy: 0.8243 - val_loss: 0.6641 - val_accuracy: 0.7620\n",
      "Epoch 73/120\n",
      "30/30 [==============================] - 0s 3ms/step - loss: 0.5130 - accuracy: 0.8259 - val_loss: 0.6658 - val_accuracy: 0.7570\n",
      "Epoch 74/120\n",
      "30/30 [==============================] - 0s 3ms/step - loss: 0.5085 - accuracy: 0.8247 - val_loss: 0.6628 - val_accuracy: 0.7610\n",
      "Epoch 75/120\n",
      "30/30 [==============================] - 0s 3ms/step - loss: 0.5044 - accuracy: 0.8273 - val_loss: 0.6627 - val_accuracy: 0.7580\n",
      "Epoch 76/120\n",
      "30/30 [==============================] - 0s 3ms/step - loss: 0.5000 - accuracy: 0.8303 - val_loss: 0.6645 - val_accuracy: 0.7510\n",
      "Epoch 77/120\n",
      "30/30 [==============================] - 0s 3ms/step - loss: 0.4965 - accuracy: 0.8324 - val_loss: 0.6597 - val_accuracy: 0.7580\n",
      "Epoch 78/120\n",
      "30/30 [==============================] - 0s 3ms/step - loss: 0.4924 - accuracy: 0.8327 - val_loss: 0.6586 - val_accuracy: 0.7600\n",
      "Epoch 79/120\n",
      "30/30 [==============================] - 0s 3ms/step - loss: 0.4876 - accuracy: 0.8380 - val_loss: 0.6597 - val_accuracy: 0.7540\n",
      "Epoch 80/120\n",
      "30/30 [==============================] - 0s 3ms/step - loss: 0.4842 - accuracy: 0.8368 - val_loss: 0.6564 - val_accuracy: 0.7550\n",
      "Epoch 81/120\n",
      "30/30 [==============================] - 0s 3ms/step - loss: 0.4802 - accuracy: 0.8399 - val_loss: 0.6590 - val_accuracy: 0.7550\n",
      "Epoch 82/120\n",
      "30/30 [==============================] - 0s 3ms/step - loss: 0.4765 - accuracy: 0.8421 - val_loss: 0.6529 - val_accuracy: 0.7550\n",
      "Epoch 83/120\n",
      "30/30 [==============================] - 0s 3ms/step - loss: 0.4725 - accuracy: 0.8427 - val_loss: 0.6567 - val_accuracy: 0.7580\n",
      "Epoch 84/120\n",
      "30/30 [==============================] - 0s 3ms/step - loss: 0.4691 - accuracy: 0.8439 - val_loss: 0.6519 - val_accuracy: 0.7620\n",
      "Epoch 85/120\n",
      "30/30 [==============================] - 0s 3ms/step - loss: 0.4650 - accuracy: 0.8455 - val_loss: 0.6508 - val_accuracy: 0.7560\n",
      "Epoch 86/120\n",
      "30/30 [==============================] - 0s 3ms/step - loss: 0.4612 - accuracy: 0.8485 - val_loss: 0.6506 - val_accuracy: 0.7570\n",
      "Epoch 87/120\n",
      "30/30 [==============================] - 0s 3ms/step - loss: 0.4584 - accuracy: 0.8497 - val_loss: 0.6553 - val_accuracy: 0.7570\n",
      "Epoch 88/120\n",
      "30/30 [==============================] - 0s 3ms/step - loss: 0.4544 - accuracy: 0.8496 - val_loss: 0.6542 - val_accuracy: 0.7580\n",
      "Epoch 89/120\n",
      "30/30 [==============================] - 0s 3ms/step - loss: 0.4514 - accuracy: 0.8509 - val_loss: 0.6511 - val_accuracy: 0.7570\n",
      "Epoch 90/120\n",
      "30/30 [==============================] - 0s 4ms/step - loss: 0.4480 - accuracy: 0.8523 - val_loss: 0.6525 - val_accuracy: 0.7560\n",
      "Epoch 91/120\n",
      "30/30 [==============================] - 0s 4ms/step - loss: 0.4443 - accuracy: 0.8532 - val_loss: 0.6482 - val_accuracy: 0.7580\n",
      "Epoch 92/120\n",
      "30/30 [==============================] - 0s 4ms/step - loss: 0.4408 - accuracy: 0.8552 - val_loss: 0.6496 - val_accuracy: 0.7580\n",
      "Epoch 93/120\n",
      "30/30 [==============================] - 0s 3ms/step - loss: 0.4377 - accuracy: 0.8577 - val_loss: 0.6461 - val_accuracy: 0.7580\n",
      "Epoch 94/120\n",
      "30/30 [==============================] - 0s 3ms/step - loss: 0.4340 - accuracy: 0.8589 - val_loss: 0.6440 - val_accuracy: 0.7580\n",
      "Epoch 95/120\n",
      "30/30 [==============================] - 0s 3ms/step - loss: 0.4309 - accuracy: 0.8591 - val_loss: 0.6471 - val_accuracy: 0.7550\n",
      "Epoch 96/120\n",
      "30/30 [==============================] - 0s 3ms/step - loss: 0.4278 - accuracy: 0.8620 - val_loss: 0.6469 - val_accuracy: 0.7660\n",
      "Epoch 97/120\n",
      "30/30 [==============================] - 0s 3ms/step - loss: 0.4251 - accuracy: 0.8633 - val_loss: 0.6471 - val_accuracy: 0.7600\n",
      "Epoch 98/120\n",
      "30/30 [==============================] - 0s 3ms/step - loss: 0.4210 - accuracy: 0.8633 - val_loss: 0.6505 - val_accuracy: 0.7570\n",
      "Epoch 99/120\n",
      "30/30 [==============================] - 0s 3ms/step - loss: 0.4188 - accuracy: 0.8631 - val_loss: 0.6451 - val_accuracy: 0.7690\n",
      "Epoch 100/120\n",
      "30/30 [==============================] - 0s 3ms/step - loss: 0.4156 - accuracy: 0.8660 - val_loss: 0.6504 - val_accuracy: 0.7600\n",
      "Epoch 101/120\n",
      "30/30 [==============================] - 0s 3ms/step - loss: 0.4123 - accuracy: 0.8660 - val_loss: 0.6512 - val_accuracy: 0.7550\n",
      "Epoch 102/120\n",
      "30/30 [==============================] - 0s 3ms/step - loss: 0.4098 - accuracy: 0.8689 - val_loss: 0.6454 - val_accuracy: 0.7610\n",
      "Epoch 103/120\n",
      "30/30 [==============================] - 0s 3ms/step - loss: 0.4063 - accuracy: 0.8689 - val_loss: 0.6462 - val_accuracy: 0.7580\n",
      "Epoch 104/120\n",
      "30/30 [==============================] - 0s 3ms/step - loss: 0.4033 - accuracy: 0.8704 - val_loss: 0.6452 - val_accuracy: 0.7650\n",
      "Epoch 105/120\n",
      "30/30 [==============================] - 0s 3ms/step - loss: 0.4005 - accuracy: 0.8728 - val_loss: 0.6479 - val_accuracy: 0.7620\n",
      "Epoch 106/120\n",
      "30/30 [==============================] - 0s 3ms/step - loss: 0.3976 - accuracy: 0.8741 - val_loss: 0.6444 - val_accuracy: 0.7570\n",
      "Epoch 107/120\n",
      "30/30 [==============================] - 0s 3ms/step - loss: 0.3948 - accuracy: 0.8744 - val_loss: 0.6487 - val_accuracy: 0.7580\n",
      "Epoch 108/120\n",
      "30/30 [==============================] - 0s 3ms/step - loss: 0.3921 - accuracy: 0.8751 - val_loss: 0.6506 - val_accuracy: 0.7560\n",
      "Epoch 109/120\n",
      "30/30 [==============================] - 0s 3ms/step - loss: 0.3893 - accuracy: 0.8741 - val_loss: 0.6430 - val_accuracy: 0.7640\n",
      "Epoch 110/120\n",
      "30/30 [==============================] - 0s 3ms/step - loss: 0.3864 - accuracy: 0.8769 - val_loss: 0.6446 - val_accuracy: 0.7630\n",
      "Epoch 111/120\n",
      "30/30 [==============================] - 0s 3ms/step - loss: 0.3836 - accuracy: 0.8795 - val_loss: 0.6435 - val_accuracy: 0.7640\n",
      "Epoch 112/120\n",
      "30/30 [==============================] - 0s 3ms/step - loss: 0.3810 - accuracy: 0.8797 - val_loss: 0.6501 - val_accuracy: 0.7590\n",
      "Epoch 113/120\n",
      "30/30 [==============================] - 0s 3ms/step - loss: 0.3780 - accuracy: 0.8805 - val_loss: 0.6486 - val_accuracy: 0.7630\n",
      "Epoch 114/120\n",
      "30/30 [==============================] - 0s 3ms/step - loss: 0.3753 - accuracy: 0.8799 - val_loss: 0.6544 - val_accuracy: 0.7610\n",
      "Epoch 115/120\n",
      "30/30 [==============================] - 0s 3ms/step - loss: 0.3732 - accuracy: 0.8823 - val_loss: 0.6466 - val_accuracy: 0.7660\n",
      "Epoch 116/120\n"
     ]
    },
    {
     "name": "stdout",
     "output_type": "stream",
     "text": [
      "30/30 [==============================] - 0s 3ms/step - loss: 0.3709 - accuracy: 0.8844 - val_loss: 0.6508 - val_accuracy: 0.7610\n",
      "Epoch 117/120\n",
      "30/30 [==============================] - 0s 3ms/step - loss: 0.3679 - accuracy: 0.8845 - val_loss: 0.6467 - val_accuracy: 0.7640\n",
      "Epoch 118/120\n",
      "30/30 [==============================] - 0s 3ms/step - loss: 0.3654 - accuracy: 0.8847 - val_loss: 0.6443 - val_accuracy: 0.7660\n",
      "Epoch 119/120\n",
      "30/30 [==============================] - 0s 3ms/step - loss: 0.3628 - accuracy: 0.8863 - val_loss: 0.6464 - val_accuracy: 0.7650\n",
      "Epoch 120/120\n",
      "30/30 [==============================] - 0s 3ms/step - loss: 0.3604 - accuracy: 0.8872 - val_loss: 0.6465 - val_accuracy: 0.7700\n"
     ]
    }
   ],
   "source": [
    "model_val = model.fit(train_final,\n",
    "                    label_train_final,\n",
    "                    epochs=120,\n",
    "                    batch_size=256,\n",
    "                    validation_data=(val, label_val))"
   ]
  },
  {
   "cell_type": "markdown",
   "metadata": {},
   "source": [
    "The dictionary `history` contains four entries this time: one per metric that was being monitored during training and during validation.\n",
    "\n",
    "In the cell below:\n",
    "\n",
    "* Store the model's `.history` inside of `model_val_dict`\n",
    "* Check what `keys()` this dictionary contains"
   ]
  },
  {
   "cell_type": "code",
   "execution_count": 26,
   "metadata": {},
   "outputs": [
    {
     "data": {
      "text/plain": [
       "dict_keys(['loss', 'accuracy', 'val_loss', 'val_accuracy'])"
      ]
     },
     "execution_count": 26,
     "metadata": {},
     "output_type": "execute_result"
    }
   ],
   "source": [
    "model_val_dict = model_val.history\n",
    "model_val_dict.keys()"
   ]
  },
  {
   "cell_type": "markdown",
   "metadata": {},
   "source": [
    "Now, let's get the final results on the training and testing sets using `model.evaluate()` on `train_final` and `label_train_final`."
   ]
  },
  {
   "cell_type": "code",
   "execution_count": 27,
   "metadata": {},
   "outputs": [
    {
     "name": "stdout",
     "output_type": "stream",
     "text": [
      "235/235 [==============================] - 0s 494us/step - loss: 0.3563 - accuracy: 0.8896\n"
     ]
    }
   ],
   "source": [
    "results_train = model.evaluate(train_final, label_train_final)"
   ]
  },
  {
   "cell_type": "markdown",
   "metadata": {},
   "source": [
    "Let's also use this function to get the results on our testing set.  Call the function again, but this time on `test` and `label_test`. "
   ]
  },
  {
   "cell_type": "code",
   "execution_count": 28,
   "metadata": {},
   "outputs": [
    {
     "name": "stdout",
     "output_type": "stream",
     "text": [
      "47/47 [==============================] - 0s 553us/step - loss: 0.6210 - accuracy: 0.7633\n"
     ]
    }
   ],
   "source": [
    "results_test = model.evaluate(test, label_test)"
   ]
  },
  {
   "cell_type": "markdown",
   "metadata": {},
   "source": [
    "Now, check the contents of each. "
   ]
  },
  {
   "cell_type": "code",
   "execution_count": 29,
   "metadata": {},
   "outputs": [
    {
     "data": {
      "text/plain": [
       "[0.35634782910346985, 0.8895999789237976]"
      ]
     },
     "execution_count": 29,
     "metadata": {},
     "output_type": "execute_result"
    }
   ],
   "source": [
    "results_train # Expected Results: [0.33576024494171142, 0.89600000000000002]"
   ]
  },
  {
   "cell_type": "code",
   "execution_count": 30,
   "metadata": {},
   "outputs": [
    {
     "data": {
      "text/plain": [
       "[0.6209511160850525, 0.7633333206176758]"
      ]
     },
     "execution_count": 30,
     "metadata": {},
     "output_type": "execute_result"
    }
   ],
   "source": [
    "results_test # Expected Results: [0.72006658554077152, 0.74333333365122478]"
   ]
  },
  {
   "cell_type": "markdown",
   "metadata": {},
   "source": [
    "### Plotting the results"
   ]
  },
  {
   "cell_type": "markdown",
   "metadata": {},
   "source": [
    "Let's plot the results. Let's include the training and the validation loss in the same plot. We'll do the same thing for the training and validation accuracy.\n",
    "\n",
    "Run the cell below to visualize a plot of our training and validation loss."
   ]
  },
  {
   "cell_type": "code",
   "execution_count": 31,
   "metadata": {},
   "outputs": [
    {
     "data": {
      "image/png": "[encoded data removed]",
      "text/plain": [
       "<Figure size 432x288 with 1 Axes>"
      ]
     },
     "metadata": {
      "needs_background": "light"
     },
     "output_type": "display_data"
    }
   ],
   "source": [
    "plt.clf()\n",
    "\n",
    "import matplotlib.pyplot as plt\n",
    "loss_values = model_val_dict['loss']\n",
    "val_loss_values = model_val_dict['val_loss']\n",
    "\n",
    "epochs = range(1, len(loss_values) + 1)\n",
    "plt.plot(epochs, loss_values, 'g', label='Training loss')\n",
    "plt.plot(epochs, val_loss_values, 'g.', label='Validation loss')\n",
    "\n",
    "plt.title('Training & validation loss')\n",
    "plt.xlabel('Epochs')\n",
    "plt.ylabel('Loss')\n",
    "plt.legend()\n",
    "plt.show()"
   ]
  },
  {
   "cell_type": "markdown",
   "metadata": {},
   "source": [
    "Interesting! \n",
    "\n",
    "Run the cell below to visualize a plot of our training and validation accuracy>"
   ]
  },
  {
   "cell_type": "code",
   "execution_count": 33,
   "metadata": {},
   "outputs": [
    {
     "data": {
      "image/png": "[encoded data removed]",
      "text/plain": [
       "<Figure size 432x288 with 1 Axes>"
      ]
     },
     "metadata": {
      "needs_background": "light"
     },
     "output_type": "display_data"
    }
   ],
   "source": [
    "plt.clf()\n",
    "\n",
    "acc_values = model_val_dict['accuracy'] \n",
    "val_acc_values = model_val_dict['val_accuracy']\n",
    "\n",
    "plt.plot(epochs, acc_values, 'r', label='Training acc')\n",
    "plt.plot(epochs, val_acc_values, 'r.', label='Validation acc')\n",
    "plt.title('Training & validation accuracy')\n",
    "plt.xlabel('Epochs')\n",
    "plt.ylabel('Loss')\n",
    "plt.legend()\n",
    "plt.show()"
   ]
  },
  {
   "cell_type": "markdown",
   "metadata": {},
   "source": [
    "We observe an interesting pattern here: although the training accuracy keeps increasing when going through more epochs, and the training loss keeps decreasing, the validation accuracy and loss seem to be reaching a status quo around the 60th epoch. This means that we're actually **overfitting** to the train data when we do as many epochs as we were doing. Luckily, you learned how to tackle overfitting in the previous lecture! For starters, it does seem clear that we are training too long. So let's stop training at the 60th epoch first (so-called \"early stopping\") before we move to more advanced regularization techniques!"
   ]
  },
  {
   "cell_type": "markdown",
   "metadata": {},
   "source": [
    "## 3. Early stopping\n",
    "\n",
    "Now that we know that the model starts to overfit around epoch 60, we can just retrain the model from scratch, but this time only up to 60 epochs! This will help us with our overfitting problem.  This method is called **_Early Stopping_**.\n",
    "\n",
    "In the cell below: \n",
    "\n",
    "* Recreate the exact model we did above. \n",
    "* Compile the model with the exact same hyperparameters.\n",
    "* Fit the model with the exact same hyperparameters, with the exception of `epochs`.  This time, set epochs to `60` instead of `120`."
   ]
  },
  {
   "cell_type": "code",
   "execution_count": 35,
   "metadata": {},
   "outputs": [
    {
     "name": "stdout",
     "output_type": "stream",
     "text": [
      "Epoch 1/60\n",
      "30/30 [==============================] - 0s 7ms/step - loss: 1.9431 - accuracy: 0.1823 - val_loss: 1.9276 - val_accuracy: 0.2130\n",
      "Epoch 2/60\n",
      "30/30 [==============================] - 0s 3ms/step - loss: 1.9152 - accuracy: 0.2111 - val_loss: 1.9019 - val_accuracy: 0.2420\n",
      "Epoch 3/60\n",
      "30/30 [==============================] - 0s 3ms/step - loss: 1.8887 - accuracy: 0.2299 - val_loss: 1.8752 - val_accuracy: 0.2530\n",
      "Epoch 4/60\n",
      "30/30 [==============================] - 0s 3ms/step - loss: 1.8602 - accuracy: 0.2529 - val_loss: 1.8468 - val_accuracy: 0.2760\n",
      "Epoch 5/60\n",
      "30/30 [==============================] - 0s 3ms/step - loss: 1.8277 - accuracy: 0.2780 - val_loss: 1.8153 - val_accuracy: 0.2950\n",
      "Epoch 6/60\n",
      "30/30 [==============================] - 0s 3ms/step - loss: 1.7915 - accuracy: 0.3097 - val_loss: 1.7799 - val_accuracy: 0.3160\n",
      "Epoch 7/60\n",
      "30/30 [==============================] - 0s 3ms/step - loss: 1.7519 - accuracy: 0.3337 - val_loss: 1.7397 - val_accuracy: 0.3480\n",
      "Epoch 8/60\n",
      "30/30 [==============================] - 0s 3ms/step - loss: 1.7097 - accuracy: 0.3633 - val_loss: 1.6990 - val_accuracy: 0.3720\n",
      "Epoch 9/60\n",
      "30/30 [==============================] - 0s 3ms/step - loss: 1.6648 - accuracy: 0.3892 - val_loss: 1.6527 - val_accuracy: 0.3980\n",
      "Epoch 10/60\n",
      "30/30 [==============================] - 0s 4ms/step - loss: 1.6172 - accuracy: 0.4165 - val_loss: 1.6056 - val_accuracy: 0.4180\n",
      "Epoch 11/60\n",
      "30/30 [==============================] - 0s 4ms/step - loss: 1.5676 - accuracy: 0.4441 - val_loss: 1.5587 - val_accuracy: 0.4430\n",
      "Epoch 12/60\n",
      "30/30 [==============================] - 0s 3ms/step - loss: 1.5171 - accuracy: 0.4704 - val_loss: 1.5086 - val_accuracy: 0.4670\n",
      "Epoch 13/60\n",
      "30/30 [==============================] - 0s 4ms/step - loss: 1.4664 - accuracy: 0.4929 - val_loss: 1.4592 - val_accuracy: 0.5000\n",
      "Epoch 14/60\n",
      "30/30 [==============================] - 0s 4ms/step - loss: 1.4162 - accuracy: 0.5243 - val_loss: 1.4124 - val_accuracy: 0.5200\n",
      "Epoch 15/60\n",
      "30/30 [==============================] - 0s 4ms/step - loss: 1.3667 - accuracy: 0.5507 - val_loss: 1.3653 - val_accuracy: 0.5440\n",
      "Epoch 16/60\n",
      "30/30 [==============================] - 0s 4ms/step - loss: 1.3186 - accuracy: 0.5739 - val_loss: 1.3213 - val_accuracy: 0.5520\n",
      "Epoch 17/60\n",
      "30/30 [==============================] - 0s 4ms/step - loss: 1.2722 - accuracy: 0.5965 - val_loss: 1.2770 - val_accuracy: 0.5730\n",
      "Epoch 18/60\n",
      "30/30 [==============================] - 0s 4ms/step - loss: 1.2273 - accuracy: 0.6165 - val_loss: 1.2367 - val_accuracy: 0.5870\n",
      "Epoch 19/60\n",
      "30/30 [==============================] - 0s 3ms/step - loss: 1.1841 - accuracy: 0.6367 - val_loss: 1.1963 - val_accuracy: 0.5980\n",
      "Epoch 20/60\n",
      "30/30 [==============================] - 0s 3ms/step - loss: 1.1426 - accuracy: 0.6535 - val_loss: 1.1593 - val_accuracy: 0.6290\n",
      "Epoch 21/60\n",
      "30/30 [==============================] - 0s 3ms/step - loss: 1.1030 - accuracy: 0.6695 - val_loss: 1.1237 - val_accuracy: 0.6250\n",
      "Epoch 22/60\n",
      "30/30 [==============================] - 0s 3ms/step - loss: 1.0659 - accuracy: 0.6813 - val_loss: 1.0912 - val_accuracy: 0.6380\n",
      "Epoch 23/60\n",
      "30/30 [==============================] - 0s 3ms/step - loss: 1.0308 - accuracy: 0.6888 - val_loss: 1.0567 - val_accuracy: 0.6590\n",
      "Epoch 24/60\n",
      "30/30 [==============================] - 0s 3ms/step - loss: 0.9980 - accuracy: 0.7017 - val_loss: 1.0298 - val_accuracy: 0.6670\n",
      "Epoch 25/60\n",
      "30/30 [==============================] - 0s 3ms/step - loss: 0.9674 - accuracy: 0.7088 - val_loss: 1.0016 - val_accuracy: 0.6680\n",
      "Epoch 26/60\n",
      "30/30 [==============================] - 0s 3ms/step - loss: 0.9387 - accuracy: 0.7133 - val_loss: 0.9750 - val_accuracy: 0.6800\n",
      "Epoch 27/60\n",
      "30/30 [==============================] - 0s 3ms/step - loss: 0.9129 - accuracy: 0.7223 - val_loss: 0.9513 - val_accuracy: 0.6760\n",
      "Epoch 28/60\n",
      "30/30 [==============================] - 0s 3ms/step - loss: 0.8877 - accuracy: 0.7261 - val_loss: 0.9320 - val_accuracy: 0.6770\n",
      "Epoch 29/60\n",
      "30/30 [==============================] - 0s 3ms/step - loss: 0.8649 - accuracy: 0.7288 - val_loss: 0.9107 - val_accuracy: 0.6840\n",
      "Epoch 30/60\n",
      "30/30 [==============================] - 0s 3ms/step - loss: 0.8432 - accuracy: 0.7345 - val_loss: 0.8954 - val_accuracy: 0.6930\n",
      "Epoch 31/60\n",
      "30/30 [==============================] - 0s 3ms/step - loss: 0.8230 - accuracy: 0.7419 - val_loss: 0.8777 - val_accuracy: 0.6910\n",
      "Epoch 32/60\n",
      "30/30 [==============================] - 0s 4ms/step - loss: 0.8043 - accuracy: 0.7448 - val_loss: 0.8594 - val_accuracy: 0.6960\n",
      "Epoch 33/60\n",
      "30/30 [==============================] - 0s 4ms/step - loss: 0.7865 - accuracy: 0.7473 - val_loss: 0.8454 - val_accuracy: 0.7010\n",
      "Epoch 34/60\n",
      "30/30 [==============================] - 0s 3ms/step - loss: 0.7707 - accuracy: 0.7529 - val_loss: 0.8302 - val_accuracy: 0.7080\n",
      "Epoch 35/60\n",
      "30/30 [==============================] - 0s 3ms/step - loss: 0.7556 - accuracy: 0.7564 - val_loss: 0.8179 - val_accuracy: 0.7080\n",
      "Epoch 36/60\n",
      "30/30 [==============================] - 0s 3ms/step - loss: 0.7407 - accuracy: 0.7583 - val_loss: 0.8117 - val_accuracy: 0.7030\n",
      "Epoch 37/60\n",
      "30/30 [==============================] - 0s 3ms/step - loss: 0.7277 - accuracy: 0.7613 - val_loss: 0.7993 - val_accuracy: 0.7090\n",
      "Epoch 38/60\n",
      "30/30 [==============================] - 0s 3ms/step - loss: 0.7147 - accuracy: 0.7653 - val_loss: 0.7946 - val_accuracy: 0.7110\n",
      "Epoch 39/60\n",
      "30/30 [==============================] - 0s 3ms/step - loss: 0.7030 - accuracy: 0.7695 - val_loss: 0.7776 - val_accuracy: 0.7160\n",
      "Epoch 40/60\n",
      "30/30 [==============================] - 0s 3ms/step - loss: 0.6913 - accuracy: 0.7715 - val_loss: 0.7727 - val_accuracy: 0.7100\n",
      "Epoch 41/60\n",
      "30/30 [==============================] - 0s 3ms/step - loss: 0.6810 - accuracy: 0.7753 - val_loss: 0.7604 - val_accuracy: 0.7180\n",
      "Epoch 42/60\n",
      "30/30 [==============================] - 0s 3ms/step - loss: 0.6709 - accuracy: 0.7775 - val_loss: 0.7536 - val_accuracy: 0.7170\n",
      "Epoch 43/60\n",
      "30/30 [==============================] - 0s 3ms/step - loss: 0.6609 - accuracy: 0.7792 - val_loss: 0.7483 - val_accuracy: 0.7180\n",
      "Epoch 44/60\n",
      "30/30 [==============================] - 0s 3ms/step - loss: 0.6520 - accuracy: 0.7820 - val_loss: 0.7433 - val_accuracy: 0.7210\n",
      "Epoch 45/60\n",
      "30/30 [==============================] - 0s 3ms/step - loss: 0.6431 - accuracy: 0.7849 - val_loss: 0.7380 - val_accuracy: 0.7230\n",
      "Epoch 46/60\n",
      "30/30 [==============================] - 0s 3ms/step - loss: 0.6350 - accuracy: 0.7875 - val_loss: 0.7337 - val_accuracy: 0.7300\n",
      "Epoch 47/60\n",
      "30/30 [==============================] - 0s 3ms/step - loss: 0.6269 - accuracy: 0.7881 - val_loss: 0.7251 - val_accuracy: 0.7290\n",
      "Epoch 48/60\n",
      "30/30 [==============================] - 0s 4ms/step - loss: 0.6192 - accuracy: 0.7933 - val_loss: 0.7229 - val_accuracy: 0.7220\n",
      "Epoch 49/60\n",
      "30/30 [==============================] - 0s 3ms/step - loss: 0.6121 - accuracy: 0.7923 - val_loss: 0.7149 - val_accuracy: 0.7290\n",
      "Epoch 50/60\n",
      "30/30 [==============================] - 0s 3ms/step - loss: 0.6043 - accuracy: 0.7951 - val_loss: 0.7126 - val_accuracy: 0.7350\n",
      "Epoch 51/60\n",
      "30/30 [==============================] - 0s 4ms/step - loss: 0.5976 - accuracy: 0.7969 - val_loss: 0.7107 - val_accuracy: 0.7280\n",
      "Epoch 52/60\n",
      "30/30 [==============================] - 0s 4ms/step - loss: 0.5911 - accuracy: 0.7988 - val_loss: 0.7048 - val_accuracy: 0.7310\n",
      "Epoch 53/60\n",
      "30/30 [==============================] - 0s 3ms/step - loss: 0.5843 - accuracy: 0.8015 - val_loss: 0.6999 - val_accuracy: 0.7340\n",
      "Epoch 54/60\n",
      "30/30 [==============================] - 0s 4ms/step - loss: 0.5787 - accuracy: 0.8029 - val_loss: 0.6989 - val_accuracy: 0.7320\n",
      "Epoch 55/60\n",
      "30/30 [==============================] - 0s 5ms/step - loss: 0.5724 - accuracy: 0.8031 - val_loss: 0.6943 - val_accuracy: 0.7390\n",
      "Epoch 56/60\n",
      "30/30 [==============================] - 0s 4ms/step - loss: 0.5665 - accuracy: 0.8060 - val_loss: 0.6939 - val_accuracy: 0.7320\n",
      "Epoch 57/60\n",
      "30/30 [==============================] - 0s 4ms/step - loss: 0.5607 - accuracy: 0.8079 - val_loss: 0.6946 - val_accuracy: 0.7360\n",
      "Epoch 58/60\n",
      "30/30 [==============================] - 0s 4ms/step - loss: 0.5553 - accuracy: 0.8099 - val_loss: 0.6901 - val_accuracy: 0.7380\n",
      "Epoch 59/60\n"
     ]
    },
    {
     "name": "stdout",
     "output_type": "stream",
     "text": [
      "30/30 [==============================] - 0s 3ms/step - loss: 0.5497 - accuracy: 0.8128 - val_loss: 0.6881 - val_accuracy: 0.7400\n",
      "Epoch 60/60\n",
      "30/30 [==============================] - 0s 3ms/step - loss: 0.5445 - accuracy: 0.8165 - val_loss: 0.6814 - val_accuracy: 0.7360\n"
     ]
    }
   ],
   "source": [
    "model = Sequential()\n",
    "model.add(Dense(50, activation = 'relu', input_shape = (2000, ))) \n",
    "model.add(Dense(25, activation = 'relu'))\n",
    "model.add(Dense(7, activation = 'softmax'))\n",
    "\n",
    "model.compile(optimizer='SGD',\n",
    "              loss='categorical_crossentropy',\n",
    "              metrics=['accuracy'])\n",
    "\n",
    "model_val = model.fit(train_final,\n",
    "                    label_train_final,\n",
    "                    epochs=60,\n",
    "                    batch_size=256,\n",
    "                    validation_data=(val, label_val))"
   ]
  },
  {
   "cell_type": "markdown",
   "metadata": {},
   "source": [
    "Now, as we did before, get our results using `model.evaluate()` on the appropriate variables. "
   ]
  },
  {
   "cell_type": "code",
   "execution_count": 36,
   "metadata": {},
   "outputs": [
    {
     "name": "stdout",
     "output_type": "stream",
     "text": [
      "235/235 [==============================] - 0s 485us/step - loss: 0.5404 - accuracy: 0.8143\n"
     ]
    }
   ],
   "source": [
    "results_train = model.evaluate(train_final, label_train_final)"
   ]
  },
  {
   "cell_type": "code",
   "execution_count": 37,
   "metadata": {},
   "outputs": [
    {
     "name": "stdout",
     "output_type": "stream",
     "text": [
      "47/47 [==============================] - 0s 510us/step - loss: 0.6634 - accuracy: 0.7380\n"
     ]
    }
   ],
   "source": [
    "results_test = model.evaluate(test, label_test)"
   ]
  },
  {
   "cell_type": "code",
   "execution_count": 38,
   "metadata": {},
   "outputs": [
    {
     "data": {
      "text/plain": [
       "[0.5404193997383118, 0.8142666816711426]"
      ]
     },
     "execution_count": 38,
     "metadata": {},
     "output_type": "execute_result"
    }
   ],
   "source": [
    "results_train  # Expected Output: [0.58606486314137773, 0.79826666669845581]"
   ]
  },
  {
   "cell_type": "code",
   "execution_count": 39,
   "metadata": {},
   "outputs": [
    {
     "data": {
      "text/plain": [
       "[0.663418710231781, 0.7379999756813049]"
      ]
     },
     "execution_count": 39,
     "metadata": {},
     "output_type": "execute_result"
    }
   ],
   "source": [
    "results_test # [0.74768974288304646, 0.71333333365122475]"
   ]
  },
  {
   "cell_type": "markdown",
   "metadata": {},
   "source": [
    "We've significantly reduced the variance, so this is already pretty good! Our test set accuracy is slightly worse, but this model will definitely be more robust than the 120 epochs one we fitted before.\n",
    "\n",
    "Now, let's see what else we can do to improve the result!"
   ]
  },
  {
   "cell_type": "markdown",
   "metadata": {},
   "source": [
    "## 4. L2 regularization"
   ]
  },
  {
   "cell_type": "markdown",
   "metadata": {},
   "source": [
    "Let's include L2 regularization. You can easily do this in keras adding the argument `kernel_regulizers.l2` and adding a value for the regularization parameter lambda between parentheses.\n",
    "\n",
    "In the cell below: \n",
    "\n",
    "* Recreate the same model we did before.\n",
    "* In our two hidden layers (but not our output layer), add in the parameter `kernel_regularizer=regularizers.l2(0.005)` to add L2 regularization to each hidden layer.  \n",
    "* Compile the model with the same hyperparameters as we did before. \n",
    "* Fit the model with the same hyperparameters as we did before, but this time for `120` epochs.\n",
    "* Store the fitted model that the `.fit` call returns inside a variable called `L2_model`."
   ]
  },
  {
   "cell_type": "code",
   "execution_count": 40,
   "metadata": {},
   "outputs": [],
   "source": [
    "from keras import regularizers"
   ]
  },
  {
   "cell_type": "code",
   "execution_count": 41,
   "metadata": {},
   "outputs": [
    {
     "name": "stdout",
     "output_type": "stream",
     "text": [
      "Epoch 1/120\n",
      "30/30 [==============================] - 0s 8ms/step - loss: 2.6063 - accuracy: 0.1544 - val_loss: 2.5878 - val_accuracy: 0.1620\n",
      "Epoch 2/120\n",
      "30/30 [==============================] - 0s 3ms/step - loss: 2.5801 - accuracy: 0.1748 - val_loss: 2.5661 - val_accuracy: 0.1850\n",
      "Epoch 3/120\n",
      "30/30 [==============================] - 0s 3ms/step - loss: 2.5587 - accuracy: 0.1935 - val_loss: 2.5453 - val_accuracy: 0.2090\n",
      "Epoch 4/120\n",
      "30/30 [==============================] - 0s 3ms/step - loss: 2.5364 - accuracy: 0.2165 - val_loss: 2.5217 - val_accuracy: 0.2210\n",
      "Epoch 5/120\n",
      "30/30 [==============================] - 0s 3ms/step - loss: 2.5109 - accuracy: 0.2440 - val_loss: 2.4956 - val_accuracy: 0.2560\n",
      "Epoch 6/120\n",
      "30/30 [==============================] - 0s 5ms/step - loss: 2.4820 - accuracy: 0.2705 - val_loss: 2.4657 - val_accuracy: 0.2840\n",
      "Epoch 7/120\n",
      "30/30 [==============================] - 0s 4ms/step - loss: 2.4493 - accuracy: 0.3012 - val_loss: 2.4320 - val_accuracy: 0.3090\n",
      "Epoch 8/120\n",
      "30/30 [==============================] - 0s 4ms/step - loss: 2.4124 - accuracy: 0.3365 - val_loss: 2.3928 - val_accuracy: 0.3590\n",
      "Epoch 9/120\n",
      "30/30 [==============================] - 0s 4ms/step - loss: 2.3703 - accuracy: 0.3713 - val_loss: 2.3484 - val_accuracy: 0.3990\n",
      "Epoch 10/120\n",
      "30/30 [==============================] - 0s 4ms/step - loss: 2.3230 - accuracy: 0.4052 - val_loss: 2.3000 - val_accuracy: 0.4290\n",
      "Epoch 11/120\n",
      "30/30 [==============================] - 0s 4ms/step - loss: 2.2721 - accuracy: 0.4393 - val_loss: 2.2482 - val_accuracy: 0.4490\n",
      "Epoch 12/120\n",
      "30/30 [==============================] - 0s 4ms/step - loss: 2.2194 - accuracy: 0.4659 - val_loss: 2.1962 - val_accuracy: 0.4620\n",
      "Epoch 13/120\n",
      "30/30 [==============================] - 0s 4ms/step - loss: 2.1659 - accuracy: 0.4869 - val_loss: 2.1454 - val_accuracy: 0.5010\n",
      "Epoch 14/120\n",
      "30/30 [==============================] - 0s 4ms/step - loss: 2.1133 - accuracy: 0.5208 - val_loss: 2.0936 - val_accuracy: 0.5200\n",
      "Epoch 15/120\n",
      "30/30 [==============================] - 0s 4ms/step - loss: 2.0614 - accuracy: 0.5389 - val_loss: 2.0448 - val_accuracy: 0.5440\n",
      "Epoch 16/120\n",
      "30/30 [==============================] - 0s 4ms/step - loss: 2.0108 - accuracy: 0.5608 - val_loss: 1.9978 - val_accuracy: 0.5610\n",
      "Epoch 17/120\n",
      "30/30 [==============================] - 0s 4ms/step - loss: 1.9623 - accuracy: 0.5820 - val_loss: 1.9517 - val_accuracy: 0.5760\n",
      "Epoch 18/120\n",
      "30/30 [==============================] - 0s 4ms/step - loss: 1.9152 - accuracy: 0.6007 - val_loss: 1.9067 - val_accuracy: 0.5930\n",
      "Epoch 19/120\n",
      "30/30 [==============================] - 0s 4ms/step - loss: 1.8699 - accuracy: 0.6141 - val_loss: 1.8658 - val_accuracy: 0.6170\n",
      "Epoch 20/120\n",
      "30/30 [==============================] - 0s 4ms/step - loss: 1.8262 - accuracy: 0.6304 - val_loss: 1.8246 - val_accuracy: 0.6240\n",
      "Epoch 21/120\n",
      "30/30 [==============================] - 0s 4ms/step - loss: 1.7841 - accuracy: 0.6408 - val_loss: 1.7863 - val_accuracy: 0.6350\n",
      "Epoch 22/120\n",
      "30/30 [==============================] - 0s 4ms/step - loss: 1.7443 - accuracy: 0.6539 - val_loss: 1.7481 - val_accuracy: 0.6510\n",
      "Epoch 23/120\n",
      "30/30 [==============================] - 0s 4ms/step - loss: 1.7063 - accuracy: 0.6696 - val_loss: 1.7140 - val_accuracy: 0.6560\n",
      "Epoch 24/120\n",
      "30/30 [==============================] - 0s 4ms/step - loss: 1.6707 - accuracy: 0.6741 - val_loss: 1.6818 - val_accuracy: 0.6730\n",
      "Epoch 25/120\n",
      "30/30 [==============================] - 0s 4ms/step - loss: 1.6358 - accuracy: 0.6852 - val_loss: 1.6507 - val_accuracy: 0.6780\n",
      "Epoch 26/120\n",
      "30/30 [==============================] - 0s 4ms/step - loss: 1.6039 - accuracy: 0.6945 - val_loss: 1.6208 - val_accuracy: 0.6840\n",
      "Epoch 27/120\n",
      "30/30 [==============================] - 0s 4ms/step - loss: 1.5731 - accuracy: 0.7031 - val_loss: 1.5949 - val_accuracy: 0.6880\n",
      "Epoch 28/120\n",
      "30/30 [==============================] - 0s 4ms/step - loss: 1.5444 - accuracy: 0.7099 - val_loss: 1.5734 - val_accuracy: 0.6850\n",
      "Epoch 29/120\n",
      "30/30 [==============================] - 0s 3ms/step - loss: 1.5174 - accuracy: 0.7116 - val_loss: 1.5464 - val_accuracy: 0.6880\n",
      "Epoch 30/120\n",
      "30/30 [==============================] - 0s 3ms/step - loss: 1.4919 - accuracy: 0.7227 - val_loss: 1.5244 - val_accuracy: 0.6930\n",
      "Epoch 31/120\n",
      "30/30 [==============================] - 0s 3ms/step - loss: 1.4681 - accuracy: 0.7231 - val_loss: 1.5087 - val_accuracy: 0.6930\n",
      "Epoch 32/120\n",
      "30/30 [==============================] - 0s 4ms/step - loss: 1.4460 - accuracy: 0.7275 - val_loss: 1.4871 - val_accuracy: 0.7050\n",
      "Epoch 33/120\n",
      "30/30 [==============================] - 0s 3ms/step - loss: 1.4250 - accuracy: 0.7291 - val_loss: 1.4662 - val_accuracy: 0.7020\n",
      "Epoch 34/120\n",
      "30/30 [==============================] - 0s 3ms/step - loss: 1.4053 - accuracy: 0.7368 - val_loss: 1.4511 - val_accuracy: 0.6990\n",
      "Epoch 35/120\n",
      "30/30 [==============================] - 0s 4ms/step - loss: 1.3867 - accuracy: 0.7420 - val_loss: 1.4328 - val_accuracy: 0.7090\n",
      "Epoch 36/120\n",
      "30/30 [==============================] - 0s 4ms/step - loss: 1.3695 - accuracy: 0.7437 - val_loss: 1.4205 - val_accuracy: 0.7100\n",
      "Epoch 37/120\n",
      "30/30 [==============================] - 0s 3ms/step - loss: 1.3531 - accuracy: 0.7469 - val_loss: 1.4047 - val_accuracy: 0.7110\n",
      "Epoch 38/120\n",
      "30/30 [==============================] - 0s 3ms/step - loss: 1.3378 - accuracy: 0.7507 - val_loss: 1.3920 - val_accuracy: 0.7180\n",
      "Epoch 39/120\n",
      "30/30 [==============================] - 0s 4ms/step - loss: 1.3230 - accuracy: 0.7536 - val_loss: 1.3843 - val_accuracy: 0.7050\n",
      "Epoch 40/120\n",
      "30/30 [==============================] - 0s 4ms/step - loss: 1.3092 - accuracy: 0.7553 - val_loss: 1.3705 - val_accuracy: 0.7140\n",
      "Epoch 41/120\n",
      "30/30 [==============================] - 0s 4ms/step - loss: 1.2959 - accuracy: 0.7577 - val_loss: 1.3645 - val_accuracy: 0.7100\n",
      "Epoch 42/120\n",
      "30/30 [==============================] - 0s 4ms/step - loss: 1.2834 - accuracy: 0.7623 - val_loss: 1.3507 - val_accuracy: 0.7210\n",
      "Epoch 43/120\n",
      "30/30 [==============================] - 0s 3ms/step - loss: 1.2713 - accuracy: 0.7677 - val_loss: 1.3426 - val_accuracy: 0.7170\n",
      "Epoch 44/120\n",
      "30/30 [==============================] - 0s 4ms/step - loss: 1.2600 - accuracy: 0.7676 - val_loss: 1.3369 - val_accuracy: 0.7160\n",
      "Epoch 45/120\n",
      "30/30 [==============================] - 0s 3ms/step - loss: 1.2494 - accuracy: 0.7692 - val_loss: 1.3240 - val_accuracy: 0.7210\n",
      "Epoch 46/120\n",
      "30/30 [==============================] - 0s 4ms/step - loss: 1.2387 - accuracy: 0.7709 - val_loss: 1.3182 - val_accuracy: 0.7180\n",
      "Epoch 47/120\n",
      "30/30 [==============================] - 0s 4ms/step - loss: 1.2288 - accuracy: 0.7732 - val_loss: 1.3094 - val_accuracy: 0.7230\n",
      "Epoch 48/120\n",
      "30/30 [==============================] - 0s 3ms/step - loss: 1.2190 - accuracy: 0.7772 - val_loss: 1.3024 - val_accuracy: 0.7250\n",
      "Epoch 49/120\n",
      "30/30 [==============================] - 0s 4ms/step - loss: 1.2097 - accuracy: 0.7768 - val_loss: 1.2969 - val_accuracy: 0.7210\n",
      "Epoch 50/120\n",
      "30/30 [==============================] - 0s 4ms/step - loss: 1.2010 - accuracy: 0.7791 - val_loss: 1.2925 - val_accuracy: 0.7250\n",
      "Epoch 51/120\n",
      "30/30 [==============================] - 0s 4ms/step - loss: 1.1922 - accuracy: 0.7831 - val_loss: 1.2874 - val_accuracy: 0.7280\n",
      "Epoch 52/120\n",
      "30/30 [==============================] - 0s 3ms/step - loss: 1.1842 - accuracy: 0.7841 - val_loss: 1.2789 - val_accuracy: 0.7320\n",
      "Epoch 53/120\n",
      "30/30 [==============================] - 0s 3ms/step - loss: 1.1756 - accuracy: 0.7859 - val_loss: 1.2724 - val_accuracy: 0.7270\n",
      "Epoch 54/120\n",
      "30/30 [==============================] - 0s 3ms/step - loss: 1.1677 - accuracy: 0.7863 - val_loss: 1.2692 - val_accuracy: 0.7240\n",
      "Epoch 55/120\n",
      "30/30 [==============================] - 0s 3ms/step - loss: 1.1603 - accuracy: 0.7899 - val_loss: 1.2623 - val_accuracy: 0.7310\n",
      "Epoch 56/120\n",
      "30/30 [==============================] - 0s 4ms/step - loss: 1.1527 - accuracy: 0.7909 - val_loss: 1.2554 - val_accuracy: 0.7320\n",
      "Epoch 57/120\n",
      "30/30 [==============================] - 0s 4ms/step - loss: 1.1453 - accuracy: 0.7932 - val_loss: 1.2509 - val_accuracy: 0.7320\n",
      "Epoch 58/120\n",
      "30/30 [==============================] - 0s 4ms/step - loss: 1.1384 - accuracy: 0.7941 - val_loss: 1.2490 - val_accuracy: 0.7280\n"
     ]
    },
    {
     "name": "stdout",
     "output_type": "stream",
     "text": [
      "Epoch 59/120\n",
      "30/30 [==============================] - 0s 4ms/step - loss: 1.1316 - accuracy: 0.7955 - val_loss: 1.2442 - val_accuracy: 0.7360\n",
      "Epoch 60/120\n",
      "30/30 [==============================] - 0s 3ms/step - loss: 1.1246 - accuracy: 0.7975 - val_loss: 1.2403 - val_accuracy: 0.7310\n",
      "Epoch 61/120\n",
      "30/30 [==============================] - 0s 3ms/step - loss: 1.1179 - accuracy: 0.7972 - val_loss: 1.2329 - val_accuracy: 0.7350\n",
      "Epoch 62/120\n",
      "30/30 [==============================] - 0s 3ms/step - loss: 1.1115 - accuracy: 0.8007 - val_loss: 1.2316 - val_accuracy: 0.7330\n",
      "Epoch 63/120\n",
      "30/30 [==============================] - 0s 3ms/step - loss: 1.1053 - accuracy: 0.8017 - val_loss: 1.2303 - val_accuracy: 0.7300\n",
      "Epoch 64/120\n",
      "30/30 [==============================] - 0s 3ms/step - loss: 1.0987 - accuracy: 0.8015 - val_loss: 1.2246 - val_accuracy: 0.7350\n",
      "Epoch 65/120\n",
      "30/30 [==============================] - 0s 3ms/step - loss: 1.0931 - accuracy: 0.8061 - val_loss: 1.2208 - val_accuracy: 0.7280\n",
      "Epoch 66/120\n",
      "30/30 [==============================] - 0s 3ms/step - loss: 1.0866 - accuracy: 0.8073 - val_loss: 1.2176 - val_accuracy: 0.7360\n",
      "Epoch 67/120\n",
      "30/30 [==============================] - 0s 3ms/step - loss: 1.0813 - accuracy: 0.8073 - val_loss: 1.2114 - val_accuracy: 0.7390\n",
      "Epoch 68/120\n",
      "30/30 [==============================] - 0s 3ms/step - loss: 1.0752 - accuracy: 0.8101 - val_loss: 1.2073 - val_accuracy: 0.7390\n",
      "Epoch 69/120\n",
      "30/30 [==============================] - 0s 4ms/step - loss: 1.0695 - accuracy: 0.8128 - val_loss: 1.2061 - val_accuracy: 0.7350\n",
      "Epoch 70/120\n",
      "30/30 [==============================] - 0s 3ms/step - loss: 1.0638 - accuracy: 0.8121 - val_loss: 1.2043 - val_accuracy: 0.7380\n",
      "Epoch 71/120\n",
      "30/30 [==============================] - 0s 4ms/step - loss: 1.0583 - accuracy: 0.8156 - val_loss: 1.1980 - val_accuracy: 0.7400\n",
      "Epoch 72/120\n",
      "30/30 [==============================] - 0s 4ms/step - loss: 1.0528 - accuracy: 0.8160 - val_loss: 1.1926 - val_accuracy: 0.7380\n",
      "Epoch 73/120\n",
      "30/30 [==============================] - 0s 3ms/step - loss: 1.0475 - accuracy: 0.8191 - val_loss: 1.1891 - val_accuracy: 0.7390\n",
      "Epoch 74/120\n",
      "30/30 [==============================] - 0s 3ms/step - loss: 1.0422 - accuracy: 0.8171 - val_loss: 1.1881 - val_accuracy: 0.7380\n",
      "Epoch 75/120\n",
      "30/30 [==============================] - 0s 4ms/step - loss: 1.0369 - accuracy: 0.8187 - val_loss: 1.1841 - val_accuracy: 0.7410\n",
      "Epoch 76/120\n",
      "30/30 [==============================] - 0s 4ms/step - loss: 1.0320 - accuracy: 0.8200 - val_loss: 1.1803 - val_accuracy: 0.7420\n",
      "Epoch 77/120\n",
      "30/30 [==============================] - 0s 3ms/step - loss: 1.0268 - accuracy: 0.8235 - val_loss: 1.1818 - val_accuracy: 0.7360\n",
      "Epoch 78/120\n",
      "30/30 [==============================] - 0s 4ms/step - loss: 1.0216 - accuracy: 0.8239 - val_loss: 1.1744 - val_accuracy: 0.7410\n",
      "Epoch 79/120\n",
      "30/30 [==============================] - 0s 4ms/step - loss: 1.0168 - accuracy: 0.8211 - val_loss: 1.1726 - val_accuracy: 0.7370\n",
      "Epoch 80/120\n",
      "30/30 [==============================] - 0s 5ms/step - loss: 1.0117 - accuracy: 0.8253 - val_loss: 1.1718 - val_accuracy: 0.7370\n",
      "Epoch 81/120\n",
      "30/30 [==============================] - 0s 5ms/step - loss: 1.0074 - accuracy: 0.8267 - val_loss: 1.1701 - val_accuracy: 0.7400\n",
      "Epoch 82/120\n",
      "30/30 [==============================] - 0s 3ms/step - loss: 1.0024 - accuracy: 0.8256 - val_loss: 1.1648 - val_accuracy: 0.7410\n",
      "Epoch 83/120\n",
      "30/30 [==============================] - 0s 4ms/step - loss: 0.9976 - accuracy: 0.8287 - val_loss: 1.1610 - val_accuracy: 0.7370\n",
      "Epoch 84/120\n",
      "30/30 [==============================] - 0s 3ms/step - loss: 0.9929 - accuracy: 0.8311 - val_loss: 1.1652 - val_accuracy: 0.7390\n",
      "Epoch 85/120\n",
      "30/30 [==============================] - 0s 3ms/step - loss: 0.9886 - accuracy: 0.8313 - val_loss: 1.1568 - val_accuracy: 0.7400\n",
      "Epoch 86/120\n",
      "30/30 [==============================] - 0s 4ms/step - loss: 0.9837 - accuracy: 0.8352 - val_loss: 1.1548 - val_accuracy: 0.7430\n",
      "Epoch 87/120\n",
      "30/30 [==============================] - 0s 4ms/step - loss: 0.9794 - accuracy: 0.8343 - val_loss: 1.1534 - val_accuracy: 0.7380\n",
      "Epoch 88/120\n",
      "30/30 [==============================] - 0s 4ms/step - loss: 0.9751 - accuracy: 0.8336 - val_loss: 1.1504 - val_accuracy: 0.7440\n",
      "Epoch 89/120\n",
      "30/30 [==============================] - 0s 3ms/step - loss: 0.9706 - accuracy: 0.8355 - val_loss: 1.1466 - val_accuracy: 0.7440\n",
      "Epoch 90/120\n",
      "30/30 [==============================] - 0s 3ms/step - loss: 0.9659 - accuracy: 0.8376 - val_loss: 1.1464 - val_accuracy: 0.7450\n",
      "Epoch 91/120\n",
      "30/30 [==============================] - 0s 3ms/step - loss: 0.9619 - accuracy: 0.8389 - val_loss: 1.1440 - val_accuracy: 0.7400\n",
      "Epoch 92/120\n",
      "30/30 [==============================] - 0s 3ms/step - loss: 0.9575 - accuracy: 0.8405 - val_loss: 1.1421 - val_accuracy: 0.7460\n",
      "Epoch 93/120\n",
      "30/30 [==============================] - 0s 3ms/step - loss: 0.9534 - accuracy: 0.8392 - val_loss: 1.1373 - val_accuracy: 0.7480\n",
      "Epoch 94/120\n",
      "30/30 [==============================] - 0s 3ms/step - loss: 0.9494 - accuracy: 0.8427 - val_loss: 1.1369 - val_accuracy: 0.7450\n",
      "Epoch 95/120\n",
      "30/30 [==============================] - 0s 3ms/step - loss: 0.9451 - accuracy: 0.8431 - val_loss: 1.1342 - val_accuracy: 0.7470\n",
      "Epoch 96/120\n",
      "30/30 [==============================] - 0s 3ms/step - loss: 0.9410 - accuracy: 0.8411 - val_loss: 1.1282 - val_accuracy: 0.7460\n",
      "Epoch 97/120\n",
      "30/30 [==============================] - 0s 3ms/step - loss: 0.9367 - accuracy: 0.8459 - val_loss: 1.1279 - val_accuracy: 0.7440\n",
      "Epoch 98/120\n",
      "30/30 [==============================] - 0s 3ms/step - loss: 0.9328 - accuracy: 0.8459 - val_loss: 1.1256 - val_accuracy: 0.7540\n",
      "Epoch 99/120\n",
      "30/30 [==============================] - 0s 3ms/step - loss: 0.9286 - accuracy: 0.8468 - val_loss: 1.1234 - val_accuracy: 0.7460\n",
      "Epoch 100/120\n",
      "30/30 [==============================] - 0s 3ms/step - loss: 0.9252 - accuracy: 0.8485 - val_loss: 1.1225 - val_accuracy: 0.7500\n",
      "Epoch 101/120\n",
      "30/30 [==============================] - 0s 3ms/step - loss: 0.9209 - accuracy: 0.8491 - val_loss: 1.1196 - val_accuracy: 0.7480\n",
      "Epoch 102/120\n",
      "30/30 [==============================] - 0s 3ms/step - loss: 0.9172 - accuracy: 0.8507 - val_loss: 1.1176 - val_accuracy: 0.7510\n",
      "Epoch 103/120\n",
      "30/30 [==============================] - 0s 3ms/step - loss: 0.9135 - accuracy: 0.8511 - val_loss: 1.1149 - val_accuracy: 0.7630\n",
      "Epoch 104/120\n",
      "30/30 [==============================] - 0s 3ms/step - loss: 0.9096 - accuracy: 0.8505 - val_loss: 1.1136 - val_accuracy: 0.7570\n",
      "Epoch 105/120\n",
      "30/30 [==============================] - 0s 4ms/step - loss: 0.9060 - accuracy: 0.8516 - val_loss: 1.1111 - val_accuracy: 0.7500\n",
      "Epoch 106/120\n",
      "30/30 [==============================] - 0s 3ms/step - loss: 0.9019 - accuracy: 0.8544 - val_loss: 1.1137 - val_accuracy: 0.7510\n",
      "Epoch 107/120\n",
      "30/30 [==============================] - 0s 3ms/step - loss: 0.8985 - accuracy: 0.8555 - val_loss: 1.1131 - val_accuracy: 0.7420\n",
      "Epoch 108/120\n",
      "30/30 [==============================] - 0s 4ms/step - loss: 0.8950 - accuracy: 0.8565 - val_loss: 1.1074 - val_accuracy: 0.7440\n",
      "Epoch 109/120\n",
      "30/30 [==============================] - 0s 3ms/step - loss: 0.8910 - accuracy: 0.8569 - val_loss: 1.1020 - val_accuracy: 0.7570\n",
      "Epoch 110/120\n",
      "30/30 [==============================] - 0s 3ms/step - loss: 0.8875 - accuracy: 0.8603 - val_loss: 1.1020 - val_accuracy: 0.7600\n",
      "Epoch 111/120\n",
      "30/30 [==============================] - 0s 3ms/step - loss: 0.8838 - accuracy: 0.8591 - val_loss: 1.1024 - val_accuracy: 0.7490\n",
      "Epoch 112/120\n",
      "30/30 [==============================] - 0s 3ms/step - loss: 0.8803 - accuracy: 0.8612 - val_loss: 1.0974 - val_accuracy: 0.7530\n",
      "Epoch 113/120\n",
      "30/30 [==============================] - 0s 3ms/step - loss: 0.8768 - accuracy: 0.8623 - val_loss: 1.0946 - val_accuracy: 0.7610\n",
      "Epoch 114/120\n",
      "30/30 [==============================] - 0s 3ms/step - loss: 0.8732 - accuracy: 0.8613 - val_loss: 1.0970 - val_accuracy: 0.7450\n",
      "Epoch 115/120\n",
      "30/30 [==============================] - 0s 3ms/step - loss: 0.8696 - accuracy: 0.8619 - val_loss: 1.0964 - val_accuracy: 0.7510\n",
      "Epoch 116/120\n"
     ]
    },
    {
     "name": "stdout",
     "output_type": "stream",
     "text": [
      "30/30 [==============================] - 0s 3ms/step - loss: 0.8665 - accuracy: 0.8629 - val_loss: 1.0936 - val_accuracy: 0.7530\n",
      "Epoch 117/120\n",
      "30/30 [==============================] - 0s 4ms/step - loss: 0.8627 - accuracy: 0.8652 - val_loss: 1.0906 - val_accuracy: 0.7560\n",
      "Epoch 118/120\n",
      "30/30 [==============================] - 0s 3ms/step - loss: 0.8595 - accuracy: 0.8656 - val_loss: 1.0868 - val_accuracy: 0.7560\n",
      "Epoch 119/120\n",
      "30/30 [==============================] - 0s 4ms/step - loss: 0.8559 - accuracy: 0.8692 - val_loss: 1.0846 - val_accuracy: 0.7570\n",
      "Epoch 120/120\n",
      "30/30 [==============================] - 0s 3ms/step - loss: 0.8524 - accuracy: 0.8667 - val_loss: 1.0824 - val_accuracy: 0.7580\n"
     ]
    }
   ],
   "source": [
    "model = Sequential()\n",
    "model.add(Dense(50, activation = 'relu',input_shape = (2000, ), kernel_regularizer = regularizers.l2(0.005))) \n",
    "model.add(Dense(25, activation = 'relu', kernel_regularizer = regularizers.l2(0.005)))\n",
    "model.add(Dense(7, activation = 'softmax'))\n",
    "\n",
    "model.compile(optimizer='SGD',\n",
    "              loss='categorical_crossentropy',\n",
    "              metrics=['accuracy'])\n",
    "\n",
    "l2_model = model.fit(train_final,\n",
    "                    label_train_final,\n",
    "                    epochs=120,\n",
    "                    batch_size=256,\n",
    "                    validation_data=(val, label_val))"
   ]
  },
  {
   "cell_type": "markdown",
   "metadata": {},
   "source": [
    "Now, let's see how regularization has affected our model results.  \n",
    "\n",
    "Run the cell below to get the model's `.history`."
   ]
  },
  {
   "cell_type": "code",
   "execution_count": 43,
   "metadata": {},
   "outputs": [
    {
     "data": {
      "text/plain": [
       "dict_keys(['loss', 'accuracy', 'val_loss', 'val_accuracy'])"
      ]
     },
     "execution_count": 43,
     "metadata": {},
     "output_type": "execute_result"
    }
   ],
   "source": [
    "L2_model_dict = l2_model.history\n",
    "L2_model_dict.keys()"
   ]
  },
  {
   "cell_type": "markdown",
   "metadata": {},
   "source": [
    "Let's look at the training accuracy as well as the validation accuracy for both the L2 and the model without regularization (for 120 epochs).\n",
    "\n",
    "Run the cell below to visualize our training and validation accuracy both with and without L2 regularization, so that we can compare them directly."
   ]
  },
  {
   "cell_type": "code",
   "execution_count": 44,
   "metadata": {},
   "outputs": [
    {
     "data": {
      "image/png": "[encoded data removed]",
      "text/plain": [
       "<Figure size 432x288 with 1 Axes>"
      ]
     },
     "metadata": {
      "needs_background": "light"
     },
     "output_type": "display_data"
    }
   ],
   "source": [
    "plt.clf()\n",
    "\n",
    "acc_values = L2_model_dict['accuracy'] \n",
    "val_acc_values = L2_model_dict['val_accuracy']\n",
    "model_acc = model_val_dict['accuracy']\n",
    "model_val_acc = model_val_dict['val_accuracy']\n",
    "\n",
    "epochs = range(1, len(acc_values) + 1)\n",
    "plt.plot(epochs, acc_values, 'g', label='Training acc L2')\n",
    "plt.plot(epochs, val_acc_values, 'g', label='Validation acc L2')\n",
    "plt.plot(epochs, model_acc, 'r', label='Training acc')\n",
    "plt.plot(epochs, model_val_acc, 'r', label='Validation acc')\n",
    "plt.title('Training & validation accuracy L2 vs regular')\n",
    "plt.xlabel('Epochs')\n",
    "plt.ylabel('Loss')\n",
    "plt.legend()\n",
    "plt.show()"
   ]
  },
  {
   "cell_type": "markdown",
   "metadata": {},
   "source": [
    "The results of L2 regularization are quite disappointing here. We notice the discrepancy between validation and training accuracy seems to have decreased slightly, but the end result is definitely not getting better. "
   ]
  },
  {
   "cell_type": "markdown",
   "metadata": {},
   "source": [
    "## 5.  L1 regularization"
   ]
  },
  {
   "cell_type": "markdown",
   "metadata": {},
   "source": [
    "Let's have a look at L1 regularization. Will this work better?\n",
    "\n",
    "In the cell below: \n",
    "\n",
    "* Recreate the same model we did above, but this time, set the `kernel_regularizer` to `regularizers.l1(0.005)` inside both hidden layers. \n",
    "* Compile and fit the model exactly as we did for our L2 Regularization experiment (`120` epochs) \n",
    "* Store the fitted model that the `.fit` call returns inside a variable called `L1_model`."
   ]
  },
  {
   "cell_type": "code",
   "execution_count": 45,
   "metadata": {},
   "outputs": [
    {
     "name": "stdout",
     "output_type": "stream",
     "text": [
      "Epoch 1/120\n",
      "30/30 [==============================] - 0s 7ms/step - loss: 15.9840 - accuracy: 0.1715 - val_loss: 15.5720 - val_accuracy: 0.2090\n",
      "Epoch 2/120\n",
      "30/30 [==============================] - 0s 3ms/step - loss: 15.2214 - accuracy: 0.1995 - val_loss: 14.8262 - val_accuracy: 0.2200\n",
      "Epoch 3/120\n",
      "30/30 [==============================] - 0s 3ms/step - loss: 14.4852 - accuracy: 0.2048 - val_loss: 14.1043 - val_accuracy: 0.2290\n",
      "Epoch 4/120\n",
      "30/30 [==============================] - 0s 3ms/step - loss: 13.7713 - accuracy: 0.2107 - val_loss: 13.4033 - val_accuracy: 0.2290\n",
      "Epoch 5/120\n",
      "30/30 [==============================] - 0s 3ms/step - loss: 13.0777 - accuracy: 0.2193 - val_loss: 12.7223 - val_accuracy: 0.2440\n",
      "Epoch 6/120\n",
      "30/30 [==============================] - 0s 3ms/step - loss: 12.4040 - accuracy: 0.2391 - val_loss: 12.0599 - val_accuracy: 0.2520\n",
      "Epoch 7/120\n",
      "30/30 [==============================] - 0s 3ms/step - loss: 11.7492 - accuracy: 0.2604 - val_loss: 11.4158 - val_accuracy: 0.2810\n",
      "Epoch 8/120\n",
      "30/30 [==============================] - 0s 3ms/step - loss: 11.1128 - accuracy: 0.2977 - val_loss: 10.7912 - val_accuracy: 0.3180\n",
      "Epoch 9/120\n",
      "30/30 [==============================] - 0s 3ms/step - loss: 10.4958 - accuracy: 0.3319 - val_loss: 10.1865 - val_accuracy: 0.3470\n",
      "Epoch 10/120\n",
      "30/30 [==============================] - 0s 3ms/step - loss: 9.8992 - accuracy: 0.3597 - val_loss: 9.6050 - val_accuracy: 0.3840\n",
      "Epoch 11/120\n",
      "30/30 [==============================] - 0s 4ms/step - loss: 9.3233 - accuracy: 0.3944 - val_loss: 9.0395 - val_accuracy: 0.3950\n",
      "Epoch 12/120\n",
      "30/30 [==============================] - 0s 3ms/step - loss: 8.7693 - accuracy: 0.4084 - val_loss: 8.4982 - val_accuracy: 0.4230\n",
      "Epoch 13/120\n",
      "30/30 [==============================] - 0s 4ms/step - loss: 8.2373 - accuracy: 0.4353 - val_loss: 7.9785 - val_accuracy: 0.4480\n",
      "Epoch 14/120\n",
      "30/30 [==============================] - 0s 3ms/step - loss: 7.7271 - accuracy: 0.4636 - val_loss: 7.4798 - val_accuracy: 0.4690\n",
      "Epoch 15/120\n",
      "30/30 [==============================] - 0s 3ms/step - loss: 7.2379 - accuracy: 0.4864 - val_loss: 7.0040 - val_accuracy: 0.5000\n",
      "Epoch 16/120\n",
      "30/30 [==============================] - 0s 3ms/step - loss: 6.7719 - accuracy: 0.5124 - val_loss: 6.5497 - val_accuracy: 0.5080\n",
      "Epoch 17/120\n",
      "30/30 [==============================] - 0s 4ms/step - loss: 6.3289 - accuracy: 0.5217 - val_loss: 6.1203 - val_accuracy: 0.5110\n",
      "Epoch 18/120\n",
      "30/30 [==============================] - 0s 3ms/step - loss: 5.9094 - accuracy: 0.5353 - val_loss: 5.7125 - val_accuracy: 0.5230\n",
      "Epoch 19/120\n",
      "30/30 [==============================] - 0s 3ms/step - loss: 5.5123 - accuracy: 0.5504 - val_loss: 5.3294 - val_accuracy: 0.5380\n",
      "Epoch 20/120\n",
      "30/30 [==============================] - 0s 4ms/step - loss: 5.1389 - accuracy: 0.5607 - val_loss: 4.9672 - val_accuracy: 0.5540\n",
      "Epoch 21/120\n",
      "30/30 [==============================] - 0s 4ms/step - loss: 4.7881 - accuracy: 0.5713 - val_loss: 4.6279 - val_accuracy: 0.5580\n",
      "Epoch 22/120\n",
      "30/30 [==============================] - 0s 4ms/step - loss: 4.4601 - accuracy: 0.5779 - val_loss: 4.3134 - val_accuracy: 0.5660\n",
      "Epoch 23/120\n",
      "30/30 [==============================] - 0s 4ms/step - loss: 4.1546 - accuracy: 0.5875 - val_loss: 4.0189 - val_accuracy: 0.5790\n",
      "Epoch 24/120\n",
      "30/30 [==============================] - 0s 4ms/step - loss: 3.8711 - accuracy: 0.5896 - val_loss: 3.7468 - val_accuracy: 0.5900\n",
      "Epoch 25/120\n",
      "30/30 [==============================] - 0s 4ms/step - loss: 3.6101 - accuracy: 0.5980 - val_loss: 3.4993 - val_accuracy: 0.5760\n",
      "Epoch 26/120\n",
      "30/30 [==============================] - 0s 5ms/step - loss: 3.3709 - accuracy: 0.6021 - val_loss: 3.2694 - val_accuracy: 0.6100\n",
      "Epoch 27/120\n",
      "30/30 [==============================] - 0s 4ms/step - loss: 3.1537 - accuracy: 0.6064 - val_loss: 3.0632 - val_accuracy: 0.6110\n",
      "Epoch 28/120\n",
      "30/30 [==============================] - 0s 5ms/step - loss: 2.9583 - accuracy: 0.6092 - val_loss: 2.8801 - val_accuracy: 0.6120\n",
      "Epoch 29/120\n",
      "30/30 [==============================] - 0s 5ms/step - loss: 2.7837 - accuracy: 0.6136 - val_loss: 2.7143 - val_accuracy: 0.6210\n",
      "Epoch 30/120\n",
      "30/30 [==============================] - 0s 4ms/step - loss: 2.6300 - accuracy: 0.6176 - val_loss: 2.5730 - val_accuracy: 0.6220\n",
      "Epoch 31/120\n",
      "30/30 [==============================] - 0s 4ms/step - loss: 2.4971 - accuracy: 0.6196 - val_loss: 2.4518 - val_accuracy: 0.6230\n",
      "Epoch 32/120\n",
      "30/30 [==============================] - 0s 4ms/step - loss: 2.3842 - accuracy: 0.6264 - val_loss: 2.3460 - val_accuracy: 0.6230\n",
      "Epoch 33/120\n",
      "30/30 [==============================] - 0s 4ms/step - loss: 2.2898 - accuracy: 0.6260 - val_loss: 2.2613 - val_accuracy: 0.6250\n",
      "Epoch 34/120\n",
      "30/30 [==============================] - 0s 4ms/step - loss: 2.2142 - accuracy: 0.6287 - val_loss: 2.1959 - val_accuracy: 0.6370\n",
      "Epoch 35/120\n",
      "30/30 [==============================] - 0s 4ms/step - loss: 2.1553 - accuracy: 0.6324 - val_loss: 2.1454 - val_accuracy: 0.6240\n",
      "Epoch 36/120\n",
      "30/30 [==============================] - 0s 4ms/step - loss: 2.1109 - accuracy: 0.6336 - val_loss: 2.1074 - val_accuracy: 0.6320\n",
      "Epoch 37/120\n",
      "30/30 [==============================] - 0s 5ms/step - loss: 2.0776 - accuracy: 0.6347 - val_loss: 2.0772 - val_accuracy: 0.6360\n",
      "Epoch 38/120\n",
      "30/30 [==============================] - 0s 4ms/step - loss: 2.0510 - accuracy: 0.6377 - val_loss: 2.0528 - val_accuracy: 0.6350\n",
      "Epoch 39/120\n",
      "30/30 [==============================] - 0s 4ms/step - loss: 2.0276 - accuracy: 0.6373 - val_loss: 2.0306 - val_accuracy: 0.6350\n",
      "Epoch 40/120\n",
      "30/30 [==============================] - 0s 4ms/step - loss: 2.0071 - accuracy: 0.6416 - val_loss: 2.0113 - val_accuracy: 0.6410\n",
      "Epoch 41/120\n",
      "30/30 [==============================] - 0s 5ms/step - loss: 1.9880 - accuracy: 0.6475 - val_loss: 1.9971 - val_accuracy: 0.6430\n",
      "Epoch 42/120\n",
      "30/30 [==============================] - 0s 4ms/step - loss: 1.9699 - accuracy: 0.6483 - val_loss: 1.9771 - val_accuracy: 0.6400\n",
      "Epoch 43/120\n",
      "30/30 [==============================] - 0s 4ms/step - loss: 1.9528 - accuracy: 0.6503 - val_loss: 1.9645 - val_accuracy: 0.6420\n",
      "Epoch 44/120\n",
      "30/30 [==============================] - 0s 4ms/step - loss: 1.9371 - accuracy: 0.6529 - val_loss: 1.9462 - val_accuracy: 0.6460\n",
      "Epoch 45/120\n",
      "30/30 [==============================] - 0s 4ms/step - loss: 1.9214 - accuracy: 0.6559 - val_loss: 1.9314 - val_accuracy: 0.6480\n",
      "Epoch 46/120\n",
      "30/30 [==============================] - 0s 3ms/step - loss: 1.9073 - accuracy: 0.6580 - val_loss: 1.9185 - val_accuracy: 0.6420\n",
      "Epoch 47/120\n",
      "30/30 [==============================] - 0s 3ms/step - loss: 1.8927 - accuracy: 0.6584 - val_loss: 1.9035 - val_accuracy: 0.6510\n",
      "Epoch 48/120\n",
      "30/30 [==============================] - 0s 3ms/step - loss: 1.8786 - accuracy: 0.6641 - val_loss: 1.8899 - val_accuracy: 0.6490\n",
      "Epoch 49/120\n",
      "30/30 [==============================] - 0s 3ms/step - loss: 1.8658 - accuracy: 0.6644 - val_loss: 1.8767 - val_accuracy: 0.6520\n",
      "Epoch 50/120\n",
      "30/30 [==============================] - 0s 4ms/step - loss: 1.8528 - accuracy: 0.6632 - val_loss: 1.8691 - val_accuracy: 0.6530\n",
      "Epoch 51/120\n",
      "30/30 [==============================] - 0s 4ms/step - loss: 1.8402 - accuracy: 0.6668 - val_loss: 1.8564 - val_accuracy: 0.6540\n",
      "Epoch 52/120\n",
      "30/30 [==============================] - 0s 4ms/step - loss: 1.8287 - accuracy: 0.6680 - val_loss: 1.8420 - val_accuracy: 0.6610\n",
      "Epoch 53/120\n",
      "30/30 [==============================] - 0s 5ms/step - loss: 1.8163 - accuracy: 0.6692 - val_loss: 1.8294 - val_accuracy: 0.6610\n",
      "Epoch 54/120\n",
      "30/30 [==============================] - 0s 5ms/step - loss: 1.8049 - accuracy: 0.6696 - val_loss: 1.8181 - val_accuracy: 0.6580\n",
      "Epoch 55/120\n",
      "30/30 [==============================] - 0s 5ms/step - loss: 1.7937 - accuracy: 0.6723 - val_loss: 1.8141 - val_accuracy: 0.6620\n",
      "Epoch 56/120\n",
      "30/30 [==============================] - 0s 4ms/step - loss: 1.7833 - accuracy: 0.6733 - val_loss: 1.8011 - val_accuracy: 0.6670\n",
      "Epoch 57/120\n",
      "30/30 [==============================] - 0s 4ms/step - loss: 1.7728 - accuracy: 0.6751 - val_loss: 1.7878 - val_accuracy: 0.6670\n",
      "Epoch 58/120\n"
     ]
    },
    {
     "name": "stdout",
     "output_type": "stream",
     "text": [
      "30/30 [==============================] - 0s 5ms/step - loss: 1.7619 - accuracy: 0.6771 - val_loss: 1.7815 - val_accuracy: 0.6690\n",
      "Epoch 59/120\n",
      "30/30 [==============================] - 0s 5ms/step - loss: 1.7518 - accuracy: 0.6771 - val_loss: 1.7732 - val_accuracy: 0.6690\n",
      "Epoch 60/120\n",
      "30/30 [==============================] - 0s 5ms/step - loss: 1.7420 - accuracy: 0.6787 - val_loss: 1.7575 - val_accuracy: 0.6670\n",
      "Epoch 61/120\n",
      "30/30 [==============================] - 0s 5ms/step - loss: 1.7322 - accuracy: 0.6815 - val_loss: 1.7490 - val_accuracy: 0.6660\n",
      "Epoch 62/120\n",
      "30/30 [==============================] - 0s 5ms/step - loss: 1.7225 - accuracy: 0.6796 - val_loss: 1.7417 - val_accuracy: 0.6710\n",
      "Epoch 63/120\n",
      "30/30 [==============================] - 0s 4ms/step - loss: 1.7130 - accuracy: 0.6812 - val_loss: 1.7354 - val_accuracy: 0.6770\n",
      "Epoch 64/120\n",
      "30/30 [==============================] - 0s 5ms/step - loss: 1.7042 - accuracy: 0.6815 - val_loss: 1.7210 - val_accuracy: 0.6690\n",
      "Epoch 65/120\n",
      "30/30 [==============================] - 0s 4ms/step - loss: 1.6944 - accuracy: 0.6839 - val_loss: 1.7182 - val_accuracy: 0.6750\n",
      "Epoch 66/120\n",
      "30/30 [==============================] - 0s 4ms/step - loss: 1.6856 - accuracy: 0.6856 - val_loss: 1.7038 - val_accuracy: 0.6770\n",
      "Epoch 67/120\n",
      "30/30 [==============================] - 0s 4ms/step - loss: 1.6770 - accuracy: 0.6851 - val_loss: 1.6986 - val_accuracy: 0.6740\n",
      "Epoch 68/120\n",
      "30/30 [==============================] - 0s 4ms/step - loss: 1.6687 - accuracy: 0.6881 - val_loss: 1.6866 - val_accuracy: 0.6770\n",
      "Epoch 69/120\n",
      "30/30 [==============================] - 0s 4ms/step - loss: 1.6600 - accuracy: 0.6873 - val_loss: 1.6780 - val_accuracy: 0.6760\n",
      "Epoch 70/120\n",
      "30/30 [==============================] - 0s 4ms/step - loss: 1.6514 - accuracy: 0.6885 - val_loss: 1.6716 - val_accuracy: 0.6780\n",
      "Epoch 71/120\n",
      "30/30 [==============================] - 0s 4ms/step - loss: 1.6433 - accuracy: 0.6893 - val_loss: 1.6747 - val_accuracy: 0.6800\n",
      "Epoch 72/120\n",
      "30/30 [==============================] - 0s 4ms/step - loss: 1.6357 - accuracy: 0.6917 - val_loss: 1.6566 - val_accuracy: 0.6760\n",
      "Epoch 73/120\n",
      "30/30 [==============================] - 0s 4ms/step - loss: 1.6269 - accuracy: 0.6927 - val_loss: 1.6474 - val_accuracy: 0.6740\n",
      "Epoch 74/120\n",
      "30/30 [==============================] - 0s 4ms/step - loss: 1.6192 - accuracy: 0.6921 - val_loss: 1.6391 - val_accuracy: 0.6770\n",
      "Epoch 75/120\n",
      "30/30 [==============================] - 0s 4ms/step - loss: 1.6114 - accuracy: 0.6917 - val_loss: 1.6356 - val_accuracy: 0.6740\n",
      "Epoch 76/120\n",
      "30/30 [==============================] - 0s 4ms/step - loss: 1.6038 - accuracy: 0.6939 - val_loss: 1.6257 - val_accuracy: 0.6770\n",
      "Epoch 77/120\n",
      "30/30 [==============================] - 0s 4ms/step - loss: 1.5965 - accuracy: 0.6951 - val_loss: 1.6195 - val_accuracy: 0.6790\n",
      "Epoch 78/120\n",
      "30/30 [==============================] - 0s 4ms/step - loss: 1.5886 - accuracy: 0.6964 - val_loss: 1.6169 - val_accuracy: 0.6780\n",
      "Epoch 79/120\n",
      "30/30 [==============================] - 0s 4ms/step - loss: 1.5813 - accuracy: 0.6960 - val_loss: 1.6075 - val_accuracy: 0.6830\n",
      "Epoch 80/120\n",
      "30/30 [==============================] - 0s 4ms/step - loss: 1.5736 - accuracy: 0.6959 - val_loss: 1.5960 - val_accuracy: 0.6800\n",
      "Epoch 81/120\n",
      "30/30 [==============================] - 0s 4ms/step - loss: 1.5664 - accuracy: 0.6971 - val_loss: 1.5889 - val_accuracy: 0.6760\n",
      "Epoch 82/120\n",
      "30/30 [==============================] - 0s 4ms/step - loss: 1.5591 - accuracy: 0.6977 - val_loss: 1.5828 - val_accuracy: 0.6790\n",
      "Epoch 83/120\n",
      "30/30 [==============================] - 0s 3ms/step - loss: 1.5523 - accuracy: 0.6988 - val_loss: 1.5754 - val_accuracy: 0.6800\n",
      "Epoch 84/120\n",
      "30/30 [==============================] - 0s 4ms/step - loss: 1.5450 - accuracy: 0.6983 - val_loss: 1.5705 - val_accuracy: 0.6810\n",
      "Epoch 85/120\n",
      "30/30 [==============================] - 0s 4ms/step - loss: 1.5382 - accuracy: 0.7009 - val_loss: 1.5622 - val_accuracy: 0.6780\n",
      "Epoch 86/120\n",
      "30/30 [==============================] - 0s 4ms/step - loss: 1.5311 - accuracy: 0.6991 - val_loss: 1.5564 - val_accuracy: 0.6830\n",
      "Epoch 87/120\n",
      "30/30 [==============================] - 0s 4ms/step - loss: 1.5242 - accuracy: 0.7001 - val_loss: 1.5492 - val_accuracy: 0.6850\n",
      "Epoch 88/120\n",
      "30/30 [==============================] - 0s 3ms/step - loss: 1.5182 - accuracy: 0.6995 - val_loss: 1.5457 - val_accuracy: 0.6860\n",
      "Epoch 89/120\n",
      "30/30 [==============================] - 0s 3ms/step - loss: 1.5113 - accuracy: 0.7001 - val_loss: 1.5356 - val_accuracy: 0.6860\n",
      "Epoch 90/120\n",
      "30/30 [==============================] - 0s 3ms/step - loss: 1.5044 - accuracy: 0.7003 - val_loss: 1.5299 - val_accuracy: 0.6850\n",
      "Epoch 91/120\n",
      "30/30 [==============================] - 0s 3ms/step - loss: 1.4991 - accuracy: 0.7011 - val_loss: 1.5300 - val_accuracy: 0.6850\n",
      "Epoch 92/120\n",
      "30/30 [==============================] - 0s 4ms/step - loss: 1.4918 - accuracy: 0.7052 - val_loss: 1.5269 - val_accuracy: 0.6820\n",
      "Epoch 93/120\n",
      "30/30 [==============================] - 0s 3ms/step - loss: 1.4861 - accuracy: 0.7041 - val_loss: 1.5196 - val_accuracy: 0.6860\n",
      "Epoch 94/120\n",
      "30/30 [==============================] - 0s 3ms/step - loss: 1.4795 - accuracy: 0.7035 - val_loss: 1.5102 - val_accuracy: 0.6820\n",
      "Epoch 95/120\n",
      "30/30 [==============================] - 0s 3ms/step - loss: 1.4736 - accuracy: 0.7036 - val_loss: 1.5000 - val_accuracy: 0.6880\n",
      "Epoch 96/120\n",
      "30/30 [==============================] - 0s 3ms/step - loss: 1.4673 - accuracy: 0.7055 - val_loss: 1.4938 - val_accuracy: 0.6830\n",
      "Epoch 97/120\n",
      "30/30 [==============================] - 0s 3ms/step - loss: 1.4611 - accuracy: 0.7067 - val_loss: 1.4847 - val_accuracy: 0.6900\n",
      "Epoch 98/120\n",
      "30/30 [==============================] - 0s 3ms/step - loss: 1.4550 - accuracy: 0.7045 - val_loss: 1.4803 - val_accuracy: 0.6870\n",
      "Epoch 99/120\n",
      "30/30 [==============================] - 0s 3ms/step - loss: 1.4491 - accuracy: 0.7067 - val_loss: 1.4819 - val_accuracy: 0.6850\n",
      "Epoch 100/120\n",
      "30/30 [==============================] - 0s 3ms/step - loss: 1.4430 - accuracy: 0.7075 - val_loss: 1.4697 - val_accuracy: 0.6850\n",
      "Epoch 101/120\n",
      "30/30 [==============================] - 0s 3ms/step - loss: 1.4374 - accuracy: 0.7079 - val_loss: 1.4619 - val_accuracy: 0.6930\n",
      "Epoch 102/120\n",
      "30/30 [==============================] - 0s 3ms/step - loss: 1.4317 - accuracy: 0.7075 - val_loss: 1.4570 - val_accuracy: 0.6940\n",
      "Epoch 103/120\n",
      "30/30 [==============================] - 0s 3ms/step - loss: 1.4257 - accuracy: 0.7093 - val_loss: 1.4523 - val_accuracy: 0.6900\n",
      "Epoch 104/120\n",
      "30/30 [==============================] - 0s 3ms/step - loss: 1.4207 - accuracy: 0.7089 - val_loss: 1.4488 - val_accuracy: 0.6920\n",
      "Epoch 105/120\n",
      "30/30 [==============================] - 0s 3ms/step - loss: 1.4146 - accuracy: 0.7087 - val_loss: 1.4443 - val_accuracy: 0.6930\n",
      "Epoch 106/120\n",
      "30/30 [==============================] - 0s 3ms/step - loss: 1.4092 - accuracy: 0.7108 - val_loss: 1.4450 - val_accuracy: 0.6930\n",
      "Epoch 107/120\n",
      "30/30 [==============================] - 0s 3ms/step - loss: 1.4040 - accuracy: 0.7119 - val_loss: 1.4304 - val_accuracy: 0.6990\n",
      "Epoch 108/120\n",
      "30/30 [==============================] - 0s 4ms/step - loss: 1.3986 - accuracy: 0.7135 - val_loss: 1.4241 - val_accuracy: 0.6970\n",
      "Epoch 109/120\n",
      "30/30 [==============================] - 0s 4ms/step - loss: 1.3928 - accuracy: 0.7139 - val_loss: 1.4197 - val_accuracy: 0.6960\n",
      "Epoch 110/120\n",
      "30/30 [==============================] - 0s 4ms/step - loss: 1.3874 - accuracy: 0.7136 - val_loss: 1.4162 - val_accuracy: 0.6940\n",
      "Epoch 111/120\n",
      "30/30 [==============================] - 0s 4ms/step - loss: 1.3825 - accuracy: 0.7137 - val_loss: 1.4112 - val_accuracy: 0.6950\n",
      "Epoch 112/120\n",
      "30/30 [==============================] - 0s 4ms/step - loss: 1.3773 - accuracy: 0.7137 - val_loss: 1.4064 - val_accuracy: 0.6960\n",
      "Epoch 113/120\n",
      "30/30 [==============================] - 0s 4ms/step - loss: 1.3723 - accuracy: 0.7129 - val_loss: 1.3999 - val_accuracy: 0.6960\n",
      "Epoch 114/120\n",
      "30/30 [==============================] - 0s 4ms/step - loss: 1.3671 - accuracy: 0.7149 - val_loss: 1.3948 - val_accuracy: 0.6980\n",
      "Epoch 115/120\n",
      "30/30 [==============================] - 0s 4ms/step - loss: 1.3614 - accuracy: 0.7149 - val_loss: 1.3914 - val_accuracy: 0.6990\n"
     ]
    },
    {
     "name": "stdout",
     "output_type": "stream",
     "text": [
      "Epoch 116/120\n",
      "30/30 [==============================] - 0s 3ms/step - loss: 1.3565 - accuracy: 0.7133 - val_loss: 1.3845 - val_accuracy: 0.6970\n",
      "Epoch 117/120\n",
      "30/30 [==============================] - 0s 3ms/step - loss: 1.3517 - accuracy: 0.7149 - val_loss: 1.3857 - val_accuracy: 0.7000\n",
      "Epoch 118/120\n",
      "30/30 [==============================] - 0s 4ms/step - loss: 1.3467 - accuracy: 0.7152 - val_loss: 1.3752 - val_accuracy: 0.6980\n",
      "Epoch 119/120\n",
      "30/30 [==============================] - 0s 4ms/step - loss: 1.3418 - accuracy: 0.7173 - val_loss: 1.3719 - val_accuracy: 0.7010\n",
      "Epoch 120/120\n",
      "30/30 [==============================] - 0s 3ms/step - loss: 1.3368 - accuracy: 0.7159 - val_loss: 1.3645 - val_accuracy: 0.7000\n"
     ]
    }
   ],
   "source": [
    "model = Sequential()\n",
    "model.add(Dense(50, activation = 'relu',input_shape = (2000, ), kernel_regularizer = regularizers.l1(0.005))) \n",
    "model.add(Dense(25, activation = 'relu', kernel_regularizer = regularizers.l1(0.005)))\n",
    "model.add(Dense(7, activation = 'softmax'))\n",
    "\n",
    "model.compile(optimizer='SGD',\n",
    "              loss='categorical_crossentropy',\n",
    "              metrics=['accuracy'])\n",
    "\n",
    "l1_model = model.fit(train_final,\n",
    "                    label_train_final,\n",
    "                    epochs=120,\n",
    "                    batch_size=256,\n",
    "                    validation_data=(val, label_val))"
   ]
  },
  {
   "cell_type": "markdown",
   "metadata": {},
   "source": [
    "Now, run the cell below to get and visualize the model's `.history`."
   ]
  },
  {
   "cell_type": "code",
   "execution_count": 47,
   "metadata": {},
   "outputs": [
    {
     "data": {
      "image/png": "[encoded data removed]",
      "text/plain": [
       "<Figure size 432x288 with 1 Axes>"
      ]
     },
     "metadata": {
      "needs_background": "light"
     },
     "output_type": "display_data"
    }
   ],
   "source": [
    "l1_model_dict = l1_model.history\n",
    "plt.clf()\n",
    "\n",
    "acc_values = l1_model_dict['accuracy'] \n",
    "val_acc_values = l1_model_dict['val_accuracy']\n",
    "\n",
    "epochs = range(1, len(acc_values) + 1)\n",
    "plt.plot(epochs, acc_values, 'g', label='Training acc L1')\n",
    "plt.plot(epochs, val_acc_values, 'g.', label='Validation acc L1')\n",
    "plt.title('Training & validation accuracy with L1 regularization')\n",
    "plt.xlabel('Epochs')\n",
    "plt.ylabel('Loss')\n",
    "plt.legend()\n",
    "plt.show()"
   ]
  },
  {
   "cell_type": "markdown",
   "metadata": {},
   "source": [
    "Notice how The training and validation accuracy don't diverge as much as before! Unfortunately, the validation accuracy doesn't reach rates much higher than 70%. It does seem like we can still improve the model by training much longer.\n",
    "\n",
    "To complete our comparison, let's use `model.evaluate()` again on the appropriate variables to compare results. "
   ]
  },
  {
   "cell_type": "code",
   "execution_count": 48,
   "metadata": {},
   "outputs": [
    {
     "name": "stdout",
     "output_type": "stream",
     "text": [
      "235/235 [==============================] - 0s 545us/step - loss: 1.3351 - accuracy: 0.7167\n",
      "47/47 [==============================] - 0s 532us/step - loss: 1.3569 - accuracy: 0.6980\n"
     ]
    }
   ],
   "source": [
    "results_train = model.evaluate(train_final, label_train_final)\n",
    "\n",
    "results_test = model.evaluate(test, label_test)"
   ]
  },
  {
   "cell_type": "code",
   "execution_count": 49,
   "metadata": {},
   "outputs": [
    {
     "data": {
      "text/plain": [
       "[1.3350669145584106, 0.7166666388511658]"
      ]
     },
     "execution_count": 49,
     "metadata": {},
     "output_type": "execute_result"
    }
   ],
   "source": [
    "results_train # Expected Output: [1.3186310468037923, 0.72266666663487755]"
   ]
  },
  {
   "cell_type": "code",
   "execution_count": 50,
   "metadata": {},
   "outputs": [
    {
     "data": {
      "text/plain": [
       "[1.3568840026855469, 0.6980000138282776]"
      ]
     },
     "execution_count": 50,
     "metadata": {},
     "output_type": "execute_result"
    }
   ],
   "source": [
    "results_test # Expected Output: [1.3541648308436076, 0.70800000031789145]"
   ]
  },
  {
   "cell_type": "markdown",
   "metadata": {},
   "source": [
    "This is about the best we've seen so far, but we were training for quite a while! Let's see if dropout regularization can do even better and/or be more efficient!"
   ]
  },
  {
   "cell_type": "markdown",
   "metadata": {},
   "source": [
    "## 6. Dropout Regularization\n",
    "\n",
    "Dropout Regularization is accomplished by adding in an additional `Dropout` layer wherever we want to use it, and providing a percentage value for how likely any given neuron is to get \"dropped out\" during this layer. \n",
    "\n",
    "In the cell below:\n",
    "\n",
    "* Import `Dropout` from `keras.layers`\n",
    "* Recreate the same network we have above, but this time without any L1 or L2 regularization\n",
    "* Add a `Dropout` layer between hidden layer 1 and hidden layer 2.  This should have a dropout chance of `0.3`.\n",
    "* Add a `Dropout` layer between hidden layer 2 and the output layer.  This should have a dropout chance of `0.3`.\n",
    "* Compile the model with the exact same hyperparameters as all other models we've built. \n",
    "* Fit the model with the same hyperparameters we've used above.  But this time, train the model for `200` epochs. "
   ]
  },
  {
   "cell_type": "code",
   "execution_count": 51,
   "metadata": {},
   "outputs": [],
   "source": [
    "from keras.layers import Dropout"
   ]
  },
  {
   "cell_type": "code",
   "execution_count": 52,
   "metadata": {},
   "outputs": [
    {
     "name": "stdout",
     "output_type": "stream",
     "text": [
      "Epoch 1/200\n",
      "30/30 [==============================] - 0s 8ms/step - loss: 1.9910 - accuracy: 0.1175 - val_loss: 1.9569 - val_accuracy: 0.1450\n",
      "Epoch 2/200\n",
      "30/30 [==============================] - 0s 4ms/step - loss: 1.9579 - accuracy: 0.1437 - val_loss: 1.9410 - val_accuracy: 0.1650\n",
      "Epoch 3/200\n",
      "30/30 [==============================] - 0s 4ms/step - loss: 1.9435 - accuracy: 0.1595 - val_loss: 1.9307 - val_accuracy: 0.1870\n",
      "Epoch 4/200\n",
      "30/30 [==============================] - 0s 4ms/step - loss: 1.9334 - accuracy: 0.1848 - val_loss: 1.9226 - val_accuracy: 0.2230\n",
      "Epoch 5/200\n",
      "30/30 [==============================] - 0s 4ms/step - loss: 1.9233 - accuracy: 0.1923 - val_loss: 1.9143 - val_accuracy: 0.2450\n",
      "Epoch 6/200\n",
      "30/30 [==============================] - 0s 4ms/step - loss: 1.9155 - accuracy: 0.2033 - val_loss: 1.9049 - val_accuracy: 0.2570\n",
      "Epoch 7/200\n",
      "30/30 [==============================] - 0s 4ms/step - loss: 1.9058 - accuracy: 0.2188 - val_loss: 1.8947 - val_accuracy: 0.2670\n",
      "Epoch 8/200\n",
      "30/30 [==============================] - 0s 4ms/step - loss: 1.8982 - accuracy: 0.2279 - val_loss: 1.8838 - val_accuracy: 0.2810\n",
      "Epoch 9/200\n",
      "30/30 [==============================] - 0s 4ms/step - loss: 1.8896 - accuracy: 0.2297 - val_loss: 1.8721 - val_accuracy: 0.2900\n",
      "Epoch 10/200\n",
      "30/30 [==============================] - 0s 4ms/step - loss: 1.8796 - accuracy: 0.2455 - val_loss: 1.8606 - val_accuracy: 0.3060\n",
      "Epoch 11/200\n",
      "30/30 [==============================] - 0s 4ms/step - loss: 1.8683 - accuracy: 0.2519 - val_loss: 1.8466 - val_accuracy: 0.3160\n",
      "Epoch 12/200\n",
      "30/30 [==============================] - 0s 4ms/step - loss: 1.8609 - accuracy: 0.2576 - val_loss: 1.8328 - val_accuracy: 0.3400\n",
      "Epoch 13/200\n",
      "30/30 [==============================] - 0s 4ms/step - loss: 1.8444 - accuracy: 0.2719 - val_loss: 1.8158 - val_accuracy: 0.3450\n",
      "Epoch 14/200\n",
      "30/30 [==============================] - 0s 4ms/step - loss: 1.8305 - accuracy: 0.2765 - val_loss: 1.7970 - val_accuracy: 0.3620\n",
      "Epoch 15/200\n",
      "30/30 [==============================] - 0s 4ms/step - loss: 1.8112 - accuracy: 0.2891 - val_loss: 1.7761 - val_accuracy: 0.3800\n",
      "Epoch 16/200\n",
      "30/30 [==============================] - 0s 4ms/step - loss: 1.7997 - accuracy: 0.2891 - val_loss: 1.7557 - val_accuracy: 0.3860\n",
      "Epoch 17/200\n",
      "30/30 [==============================] - 0s 4ms/step - loss: 1.7773 - accuracy: 0.3071 - val_loss: 1.7317 - val_accuracy: 0.4050\n",
      "Epoch 18/200\n",
      "30/30 [==============================] - 0s 4ms/step - loss: 1.7587 - accuracy: 0.3169 - val_loss: 1.7072 - val_accuracy: 0.4180\n",
      "Epoch 19/200\n",
      "30/30 [==============================] - 0s 4ms/step - loss: 1.7430 - accuracy: 0.3221 - val_loss: 1.6834 - val_accuracy: 0.4430\n",
      "Epoch 20/200\n",
      "30/30 [==============================] - 0s 4ms/step - loss: 1.7199 - accuracy: 0.3368 - val_loss: 1.6563 - val_accuracy: 0.4590\n",
      "Epoch 21/200\n",
      "30/30 [==============================] - 0s 4ms/step - loss: 1.6948 - accuracy: 0.3491 - val_loss: 1.6288 - val_accuracy: 0.4690\n",
      "Epoch 22/200\n",
      "30/30 [==============================] - 0s 4ms/step - loss: 1.6730 - accuracy: 0.3604 - val_loss: 1.6026 - val_accuracy: 0.4770\n",
      "Epoch 23/200\n",
      "30/30 [==============================] - 0s 4ms/step - loss: 1.6513 - accuracy: 0.3667 - val_loss: 1.5746 - val_accuracy: 0.4910\n",
      "Epoch 24/200\n",
      "30/30 [==============================] - 0s 4ms/step - loss: 1.6319 - accuracy: 0.3771 - val_loss: 1.5466 - val_accuracy: 0.5020\n",
      "Epoch 25/200\n",
      "30/30 [==============================] - 0s 4ms/step - loss: 1.6089 - accuracy: 0.3908 - val_loss: 1.5199 - val_accuracy: 0.5130\n",
      "Epoch 26/200\n",
      "30/30 [==============================] - 0s 4ms/step - loss: 1.5891 - accuracy: 0.3925 - val_loss: 1.4957 - val_accuracy: 0.5220\n",
      "Epoch 27/200\n",
      "30/30 [==============================] - 0s 4ms/step - loss: 1.5752 - accuracy: 0.3984 - val_loss: 1.4702 - val_accuracy: 0.5310\n",
      "Epoch 28/200\n",
      "30/30 [==============================] - 0s 4ms/step - loss: 1.5437 - accuracy: 0.4116 - val_loss: 1.4422 - val_accuracy: 0.5340\n",
      "Epoch 29/200\n",
      "30/30 [==============================] - 0s 4ms/step - loss: 1.5231 - accuracy: 0.4223 - val_loss: 1.4178 - val_accuracy: 0.5460\n",
      "Epoch 30/200\n",
      "30/30 [==============================] - 0s 4ms/step - loss: 1.5066 - accuracy: 0.4233 - val_loss: 1.3932 - val_accuracy: 0.5520\n",
      "Epoch 31/200\n",
      "30/30 [==============================] - 0s 4ms/step - loss: 1.4920 - accuracy: 0.4312 - val_loss: 1.3710 - val_accuracy: 0.5610\n",
      "Epoch 32/200\n",
      "30/30 [==============================] - 0s 4ms/step - loss: 1.4638 - accuracy: 0.4425 - val_loss: 1.3458 - val_accuracy: 0.5710\n",
      "Epoch 33/200\n",
      "30/30 [==============================] - 0s 4ms/step - loss: 1.4462 - accuracy: 0.4583 - val_loss: 1.3230 - val_accuracy: 0.5730\n",
      "Epoch 34/200\n",
      "30/30 [==============================] - 0s 4ms/step - loss: 1.4416 - accuracy: 0.4543 - val_loss: 1.3053 - val_accuracy: 0.5910\n",
      "Epoch 35/200\n",
      "30/30 [==============================] - 0s 4ms/step - loss: 1.4202 - accuracy: 0.4572 - val_loss: 1.2844 - val_accuracy: 0.6020\n",
      "Epoch 36/200\n",
      "30/30 [==============================] - 0s 4ms/step - loss: 1.3927 - accuracy: 0.4727 - val_loss: 1.2615 - val_accuracy: 0.5990\n",
      "Epoch 37/200\n",
      "30/30 [==============================] - 0s 4ms/step - loss: 1.3812 - accuracy: 0.4736 - val_loss: 1.2439 - val_accuracy: 0.6190\n",
      "Epoch 38/200\n",
      "30/30 [==============================] - 0s 4ms/step - loss: 1.3588 - accuracy: 0.4881 - val_loss: 1.2238 - val_accuracy: 0.6230\n",
      "Epoch 39/200\n",
      "30/30 [==============================] - 0s 4ms/step - loss: 1.3501 - accuracy: 0.4865 - val_loss: 1.2062 - val_accuracy: 0.6300\n",
      "Epoch 40/200\n",
      "30/30 [==============================] - 0s 4ms/step - loss: 1.3286 - accuracy: 0.4932 - val_loss: 1.1873 - val_accuracy: 0.6330\n",
      "Epoch 41/200\n",
      "30/30 [==============================] - 0s 4ms/step - loss: 1.3235 - accuracy: 0.4927 - val_loss: 1.1701 - val_accuracy: 0.6340\n",
      "Epoch 42/200\n",
      "30/30 [==============================] - 0s 4ms/step - loss: 1.3014 - accuracy: 0.5032 - val_loss: 1.1561 - val_accuracy: 0.6340\n",
      "Epoch 43/200\n",
      "30/30 [==============================] - 0s 4ms/step - loss: 1.2911 - accuracy: 0.5067 - val_loss: 1.1408 - val_accuracy: 0.6480\n",
      "Epoch 44/200\n",
      "30/30 [==============================] - 0s 4ms/step - loss: 1.2762 - accuracy: 0.5145 - val_loss: 1.1237 - val_accuracy: 0.6520\n",
      "Epoch 45/200\n",
      "30/30 [==============================] - 0s 4ms/step - loss: 1.2590 - accuracy: 0.5235 - val_loss: 1.1108 - val_accuracy: 0.6530\n",
      "Epoch 46/200\n",
      "30/30 [==============================] - 0s 4ms/step - loss: 1.2566 - accuracy: 0.5189 - val_loss: 1.0969 - val_accuracy: 0.6590\n",
      "Epoch 47/200\n",
      "30/30 [==============================] - 0s 4ms/step - loss: 1.2442 - accuracy: 0.5320 - val_loss: 1.0824 - val_accuracy: 0.6640\n",
      "Epoch 48/200\n",
      "30/30 [==============================] - 0s 4ms/step - loss: 1.2195 - accuracy: 0.5429 - val_loss: 1.0665 - val_accuracy: 0.6620\n",
      "Epoch 49/200\n",
      "30/30 [==============================] - 0s 4ms/step - loss: 1.2123 - accuracy: 0.5429 - val_loss: 1.0527 - val_accuracy: 0.6670\n",
      "Epoch 50/200\n",
      "30/30 [==============================] - 0s 4ms/step - loss: 1.1871 - accuracy: 0.5520 - val_loss: 1.0397 - val_accuracy: 0.6720\n",
      "Epoch 51/200\n",
      "30/30 [==============================] - 0s 4ms/step - loss: 1.1881 - accuracy: 0.5507 - val_loss: 1.0273 - val_accuracy: 0.6790\n",
      "Epoch 52/200\n",
      "30/30 [==============================] - 0s 5ms/step - loss: 1.1806 - accuracy: 0.5509 - val_loss: 1.0156 - val_accuracy: 0.6800\n",
      "Epoch 53/200\n",
      "30/30 [==============================] - 0s 6ms/step - loss: 1.1698 - accuracy: 0.5596 - val_loss: 1.0054 - val_accuracy: 0.6780\n",
      "Epoch 54/200\n",
      "30/30 [==============================] - 0s 5ms/step - loss: 1.1657 - accuracy: 0.5644 - val_loss: 0.9954 - val_accuracy: 0.6830\n",
      "Epoch 55/200\n",
      "30/30 [==============================] - 0s 5ms/step - loss: 1.1413 - accuracy: 0.5711 - val_loss: 0.9842 - val_accuracy: 0.6870\n",
      "Epoch 56/200\n",
      "30/30 [==============================] - 0s 6ms/step - loss: 1.1324 - accuracy: 0.5669 - val_loss: 0.9732 - val_accuracy: 0.6840\n",
      "Epoch 57/200\n",
      "30/30 [==============================] - 0s 5ms/step - loss: 1.1267 - accuracy: 0.5776 - val_loss: 0.9657 - val_accuracy: 0.6850\n",
      "Epoch 58/200\n",
      "30/30 [==============================] - 0s 6ms/step - loss: 1.1109 - accuracy: 0.5840 - val_loss: 0.9536 - val_accuracy: 0.6920\n"
     ]
    },
    {
     "name": "stdout",
     "output_type": "stream",
     "text": [
      "Epoch 59/200\n",
      "30/30 [==============================] - 0s 5ms/step - loss: 1.1031 - accuracy: 0.5749 - val_loss: 0.9420 - val_accuracy: 0.6900\n",
      "Epoch 60/200\n",
      "30/30 [==============================] - 0s 6ms/step - loss: 1.0908 - accuracy: 0.5847 - val_loss: 0.9338 - val_accuracy: 0.6950\n",
      "Epoch 61/200\n",
      "30/30 [==============================] - 0s 5ms/step - loss: 1.0865 - accuracy: 0.5908 - val_loss: 0.9248 - val_accuracy: 0.6930\n",
      "Epoch 62/200\n",
      "30/30 [==============================] - 0s 4ms/step - loss: 1.0810 - accuracy: 0.5897 - val_loss: 0.9160 - val_accuracy: 0.6960\n",
      "Epoch 63/200\n",
      "30/30 [==============================] - 0s 4ms/step - loss: 1.0657 - accuracy: 0.5949 - val_loss: 0.9084 - val_accuracy: 0.6950\n",
      "Epoch 64/200\n",
      "30/30 [==============================] - 0s 4ms/step - loss: 1.0556 - accuracy: 0.5956 - val_loss: 0.8990 - val_accuracy: 0.6990\n",
      "Epoch 65/200\n",
      "30/30 [==============================] - 0s 5ms/step - loss: 1.0518 - accuracy: 0.5984 - val_loss: 0.8915 - val_accuracy: 0.7030\n",
      "Epoch 66/200\n",
      "30/30 [==============================] - 0s 4ms/step - loss: 1.0453 - accuracy: 0.6040 - val_loss: 0.8843 - val_accuracy: 0.7060\n",
      "Epoch 67/200\n",
      "30/30 [==============================] - 0s 4ms/step - loss: 1.0341 - accuracy: 0.6063 - val_loss: 0.8764 - val_accuracy: 0.7010\n",
      "Epoch 68/200\n",
      "30/30 [==============================] - 0s 4ms/step - loss: 1.0301 - accuracy: 0.6120 - val_loss: 0.8693 - val_accuracy: 0.7040\n",
      "Epoch 69/200\n",
      "30/30 [==============================] - 0s 4ms/step - loss: 1.0288 - accuracy: 0.6105 - val_loss: 0.8637 - val_accuracy: 0.7100\n",
      "Epoch 70/200\n",
      "30/30 [==============================] - 0s 4ms/step - loss: 1.0076 - accuracy: 0.6239 - val_loss: 0.8561 - val_accuracy: 0.7110\n",
      "Epoch 71/200\n",
      "30/30 [==============================] - 0s 4ms/step - loss: 1.0013 - accuracy: 0.6153 - val_loss: 0.8500 - val_accuracy: 0.7070\n",
      "Epoch 72/200\n",
      "30/30 [==============================] - 0s 4ms/step - loss: 1.0005 - accuracy: 0.6237 - val_loss: 0.8428 - val_accuracy: 0.7080\n",
      "Epoch 73/200\n",
      "30/30 [==============================] - 0s 4ms/step - loss: 0.9863 - accuracy: 0.6324 - val_loss: 0.8360 - val_accuracy: 0.7100\n",
      "Epoch 74/200\n",
      "30/30 [==============================] - 0s 4ms/step - loss: 0.9710 - accuracy: 0.6299 - val_loss: 0.8325 - val_accuracy: 0.7090\n",
      "Epoch 75/200\n",
      "30/30 [==============================] - 0s 4ms/step - loss: 0.9775 - accuracy: 0.6347 - val_loss: 0.8240 - val_accuracy: 0.7080\n",
      "Epoch 76/200\n",
      "30/30 [==============================] - 0s 4ms/step - loss: 0.9687 - accuracy: 0.6423 - val_loss: 0.8192 - val_accuracy: 0.7090\n",
      "Epoch 77/200\n",
      "30/30 [==============================] - 0s 4ms/step - loss: 0.9651 - accuracy: 0.6361 - val_loss: 0.8132 - val_accuracy: 0.7150\n",
      "Epoch 78/200\n",
      "30/30 [==============================] - 0s 5ms/step - loss: 0.9540 - accuracy: 0.6445 - val_loss: 0.8077 - val_accuracy: 0.7180\n",
      "Epoch 79/200\n",
      "30/30 [==============================] - 0s 4ms/step - loss: 0.9457 - accuracy: 0.6431 - val_loss: 0.8033 - val_accuracy: 0.7130\n",
      "Epoch 80/200\n",
      "30/30 [==============================] - 0s 5ms/step - loss: 0.9537 - accuracy: 0.6421 - val_loss: 0.7995 - val_accuracy: 0.7110\n",
      "Epoch 81/200\n",
      "30/30 [==============================] - 0s 4ms/step - loss: 0.9334 - accuracy: 0.6519 - val_loss: 0.7944 - val_accuracy: 0.7170\n",
      "Epoch 82/200\n",
      "30/30 [==============================] - 0s 4ms/step - loss: 0.9361 - accuracy: 0.6527 - val_loss: 0.7892 - val_accuracy: 0.7190\n",
      "Epoch 83/200\n",
      "30/30 [==============================] - 0s 4ms/step - loss: 0.9224 - accuracy: 0.6500 - val_loss: 0.7841 - val_accuracy: 0.7190\n",
      "Epoch 84/200\n",
      "30/30 [==============================] - 0s 4ms/step - loss: 0.9084 - accuracy: 0.6571 - val_loss: 0.7778 - val_accuracy: 0.7180\n",
      "Epoch 85/200\n",
      "30/30 [==============================] - 0s 5ms/step - loss: 0.9128 - accuracy: 0.6557 - val_loss: 0.7743 - val_accuracy: 0.7180\n",
      "Epoch 86/200\n",
      "30/30 [==============================] - 0s 4ms/step - loss: 0.8995 - accuracy: 0.6627 - val_loss: 0.7693 - val_accuracy: 0.7200\n",
      "Epoch 87/200\n",
      "30/30 [==============================] - 0s 4ms/step - loss: 0.8905 - accuracy: 0.6652 - val_loss: 0.7672 - val_accuracy: 0.7210\n",
      "Epoch 88/200\n",
      "30/30 [==============================] - 0s 4ms/step - loss: 0.8878 - accuracy: 0.6656 - val_loss: 0.7626 - val_accuracy: 0.7210\n",
      "Epoch 89/200\n",
      "30/30 [==============================] - 0s 4ms/step - loss: 0.8847 - accuracy: 0.6596 - val_loss: 0.7593 - val_accuracy: 0.7230\n",
      "Epoch 90/200\n",
      "30/30 [==============================] - 0s 4ms/step - loss: 0.8889 - accuracy: 0.6629 - val_loss: 0.7562 - val_accuracy: 0.7200\n",
      "Epoch 91/200\n",
      "30/30 [==============================] - 0s 4ms/step - loss: 0.8859 - accuracy: 0.6688 - val_loss: 0.7536 - val_accuracy: 0.7220\n",
      "Epoch 92/200\n",
      "30/30 [==============================] - 0s 4ms/step - loss: 0.8630 - accuracy: 0.6764 - val_loss: 0.7508 - val_accuracy: 0.7210\n",
      "Epoch 93/200\n",
      "30/30 [==============================] - 0s 4ms/step - loss: 0.8615 - accuracy: 0.6825 - val_loss: 0.7461 - val_accuracy: 0.7220\n",
      "Epoch 94/200\n",
      "30/30 [==============================] - 0s 4ms/step - loss: 0.8616 - accuracy: 0.6728 - val_loss: 0.7438 - val_accuracy: 0.7230\n",
      "Epoch 95/200\n",
      "30/30 [==============================] - 0s 4ms/step - loss: 0.8640 - accuracy: 0.6721 - val_loss: 0.7403 - val_accuracy: 0.7230\n",
      "Epoch 96/200\n",
      "30/30 [==============================] - 0s 4ms/step - loss: 0.8627 - accuracy: 0.6812 - val_loss: 0.7394 - val_accuracy: 0.7220\n",
      "Epoch 97/200\n",
      "30/30 [==============================] - 0s 4ms/step - loss: 0.8415 - accuracy: 0.6841 - val_loss: 0.7359 - val_accuracy: 0.7200\n",
      "Epoch 98/200\n",
      "30/30 [==============================] - 0s 4ms/step - loss: 0.8491 - accuracy: 0.6791 - val_loss: 0.7301 - val_accuracy: 0.7250\n",
      "Epoch 99/200\n",
      "30/30 [==============================] - 0s 4ms/step - loss: 0.8337 - accuracy: 0.6905 - val_loss: 0.7288 - val_accuracy: 0.7240\n",
      "Epoch 100/200\n",
      "30/30 [==============================] - 0s 4ms/step - loss: 0.8356 - accuracy: 0.6860 - val_loss: 0.7247 - val_accuracy: 0.7270\n",
      "Epoch 101/200\n",
      "30/30 [==============================] - 0s 4ms/step - loss: 0.8236 - accuracy: 0.6932 - val_loss: 0.7217 - val_accuracy: 0.7290\n",
      "Epoch 102/200\n",
      "30/30 [==============================] - 0s 4ms/step - loss: 0.8240 - accuracy: 0.6920 - val_loss: 0.7201 - val_accuracy: 0.7290\n",
      "Epoch 103/200\n",
      "30/30 [==============================] - 0s 4ms/step - loss: 0.8204 - accuracy: 0.6973 - val_loss: 0.7179 - val_accuracy: 0.7280\n",
      "Epoch 104/200\n",
      "30/30 [==============================] - 0s 4ms/step - loss: 0.8139 - accuracy: 0.6971 - val_loss: 0.7167 - val_accuracy: 0.7290\n",
      "Epoch 105/200\n",
      "30/30 [==============================] - 0s 4ms/step - loss: 0.8174 - accuracy: 0.6917 - val_loss: 0.7155 - val_accuracy: 0.7270\n",
      "Epoch 106/200\n",
      "30/30 [==============================] - 0s 4ms/step - loss: 0.8107 - accuracy: 0.6965 - val_loss: 0.7103 - val_accuracy: 0.7280\n",
      "Epoch 107/200\n",
      "30/30 [==============================] - 0s 4ms/step - loss: 0.7951 - accuracy: 0.7028 - val_loss: 0.7070 - val_accuracy: 0.7280\n",
      "Epoch 108/200\n",
      "30/30 [==============================] - 0s 5ms/step - loss: 0.7892 - accuracy: 0.7084 - val_loss: 0.7041 - val_accuracy: 0.7320\n",
      "Epoch 109/200\n",
      "30/30 [==============================] - 0s 4ms/step - loss: 0.7889 - accuracy: 0.7003 - val_loss: 0.7031 - val_accuracy: 0.7310\n",
      "Epoch 110/200\n",
      "30/30 [==============================] - 0s 5ms/step - loss: 0.7851 - accuracy: 0.7079 - val_loss: 0.7023 - val_accuracy: 0.7330\n",
      "Epoch 111/200\n",
      "30/30 [==============================] - 0s 4ms/step - loss: 0.7893 - accuracy: 0.7027 - val_loss: 0.6988 - val_accuracy: 0.7350\n",
      "Epoch 112/200\n",
      "30/30 [==============================] - 0s 4ms/step - loss: 0.7848 - accuracy: 0.7104 - val_loss: 0.6991 - val_accuracy: 0.7310\n",
      "Epoch 113/200\n",
      "30/30 [==============================] - 0s 4ms/step - loss: 0.7767 - accuracy: 0.7093 - val_loss: 0.6966 - val_accuracy: 0.7310\n",
      "Epoch 114/200\n",
      "30/30 [==============================] - 0s 4ms/step - loss: 0.7721 - accuracy: 0.7160 - val_loss: 0.6960 - val_accuracy: 0.7290\n",
      "Epoch 115/200\n",
      "30/30 [==============================] - 0s 4ms/step - loss: 0.7724 - accuracy: 0.7129 - val_loss: 0.6926 - val_accuracy: 0.7350\n",
      "Epoch 116/200\n"
     ]
    },
    {
     "name": "stdout",
     "output_type": "stream",
     "text": [
      "30/30 [==============================] - 0s 4ms/step - loss: 0.7678 - accuracy: 0.7191 - val_loss: 0.6928 - val_accuracy: 0.7290\n",
      "Epoch 117/200\n",
      "30/30 [==============================] - 0s 4ms/step - loss: 0.7706 - accuracy: 0.7133 - val_loss: 0.6908 - val_accuracy: 0.7320\n",
      "Epoch 118/200\n",
      "30/30 [==============================] - 0s 4ms/step - loss: 0.7702 - accuracy: 0.7129 - val_loss: 0.6874 - val_accuracy: 0.7320\n",
      "Epoch 119/200\n",
      "30/30 [==============================] - 0s 4ms/step - loss: 0.7547 - accuracy: 0.7168 - val_loss: 0.6858 - val_accuracy: 0.7350\n",
      "Epoch 120/200\n",
      "30/30 [==============================] - 0s 4ms/step - loss: 0.7610 - accuracy: 0.7080 - val_loss: 0.6862 - val_accuracy: 0.7310\n",
      "Epoch 121/200\n",
      "30/30 [==============================] - 0s 4ms/step - loss: 0.7487 - accuracy: 0.7209 - val_loss: 0.6834 - val_accuracy: 0.7330\n",
      "Epoch 122/200\n",
      "30/30 [==============================] - 0s 4ms/step - loss: 0.7418 - accuracy: 0.7207 - val_loss: 0.6815 - val_accuracy: 0.7320\n",
      "Epoch 123/200\n",
      "30/30 [==============================] - 0s 4ms/step - loss: 0.7458 - accuracy: 0.7195 - val_loss: 0.6803 - val_accuracy: 0.7320\n",
      "Epoch 124/200\n",
      "30/30 [==============================] - 0s 4ms/step - loss: 0.7533 - accuracy: 0.7092 - val_loss: 0.6802 - val_accuracy: 0.7350\n",
      "Epoch 125/200\n",
      "30/30 [==============================] - ETA: 0s - loss: 0.7255 - accuracy: 0.72 - 0s 4ms/step - loss: 0.7315 - accuracy: 0.7272 - val_loss: 0.6805 - val_accuracy: 0.7330\n",
      "Epoch 126/200\n",
      "30/30 [==============================] - 0s 4ms/step - loss: 0.7429 - accuracy: 0.7215 - val_loss: 0.6790 - val_accuracy: 0.7340\n",
      "Epoch 127/200\n",
      "30/30 [==============================] - 0s 4ms/step - loss: 0.7201 - accuracy: 0.7317 - val_loss: 0.6738 - val_accuracy: 0.7340\n",
      "Epoch 128/200\n",
      "30/30 [==============================] - 0s 4ms/step - loss: 0.7415 - accuracy: 0.7233 - val_loss: 0.6730 - val_accuracy: 0.7330\n",
      "Epoch 129/200\n",
      "30/30 [==============================] - 0s 4ms/step - loss: 0.7103 - accuracy: 0.7411 - val_loss: 0.6747 - val_accuracy: 0.7350\n",
      "Epoch 130/200\n",
      "30/30 [==============================] - 0s 4ms/step - loss: 0.7213 - accuracy: 0.7300 - val_loss: 0.6731 - val_accuracy: 0.7340\n",
      "Epoch 131/200\n",
      "30/30 [==============================] - 0s 4ms/step - loss: 0.7107 - accuracy: 0.7313 - val_loss: 0.6713 - val_accuracy: 0.7330\n",
      "Epoch 132/200\n",
      "30/30 [==============================] - 0s 4ms/step - loss: 0.7207 - accuracy: 0.7291 - val_loss: 0.6693 - val_accuracy: 0.7340\n",
      "Epoch 133/200\n",
      "30/30 [==============================] - 0s 4ms/step - loss: 0.7149 - accuracy: 0.7325 - val_loss: 0.6670 - val_accuracy: 0.7360\n",
      "Epoch 134/200\n",
      "30/30 [==============================] - 0s 4ms/step - loss: 0.7110 - accuracy: 0.7331 - val_loss: 0.6671 - val_accuracy: 0.7330\n",
      "Epoch 135/200\n",
      "30/30 [==============================] - 0s 5ms/step - loss: 0.7086 - accuracy: 0.7329 - val_loss: 0.6640 - val_accuracy: 0.7360\n",
      "Epoch 136/200\n",
      "30/30 [==============================] - 0s 5ms/step - loss: 0.7051 - accuracy: 0.7375 - val_loss: 0.6644 - val_accuracy: 0.7350\n",
      "Epoch 137/200\n",
      "30/30 [==============================] - 0s 5ms/step - loss: 0.7030 - accuracy: 0.7372 - val_loss: 0.6636 - val_accuracy: 0.7360\n",
      "Epoch 138/200\n",
      "30/30 [==============================] - 0s 4ms/step - loss: 0.6968 - accuracy: 0.7337 - val_loss: 0.6625 - val_accuracy: 0.7400\n",
      "Epoch 139/200\n",
      "30/30 [==============================] - 0s 4ms/step - loss: 0.6913 - accuracy: 0.7404 - val_loss: 0.6633 - val_accuracy: 0.7350\n",
      "Epoch 140/200\n",
      "30/30 [==============================] - 0s 4ms/step - loss: 0.7006 - accuracy: 0.7388 - val_loss: 0.6624 - val_accuracy: 0.7400\n",
      "Epoch 141/200\n",
      "30/30 [==============================] - 0s 4ms/step - loss: 0.6769 - accuracy: 0.7397 - val_loss: 0.6608 - val_accuracy: 0.7380\n",
      "Epoch 142/200\n",
      "30/30 [==============================] - 0s 4ms/step - loss: 0.6895 - accuracy: 0.7383 - val_loss: 0.6625 - val_accuracy: 0.7380\n",
      "Epoch 143/200\n",
      "30/30 [==============================] - 0s 4ms/step - loss: 0.6902 - accuracy: 0.7487 - val_loss: 0.6616 - val_accuracy: 0.7350\n",
      "Epoch 144/200\n",
      "30/30 [==============================] - 0s 4ms/step - loss: 0.6810 - accuracy: 0.7459 - val_loss: 0.6593 - val_accuracy: 0.7370\n",
      "Epoch 145/200\n",
      "30/30 [==============================] - 0s 4ms/step - loss: 0.6756 - accuracy: 0.7451 - val_loss: 0.6575 - val_accuracy: 0.7340\n",
      "Epoch 146/200\n",
      "30/30 [==============================] - 0s 4ms/step - loss: 0.6735 - accuracy: 0.7504 - val_loss: 0.6561 - val_accuracy: 0.7360\n",
      "Epoch 147/200\n",
      "30/30 [==============================] - 0s 4ms/step - loss: 0.6747 - accuracy: 0.7419 - val_loss: 0.6590 - val_accuracy: 0.7340\n",
      "Epoch 148/200\n",
      "30/30 [==============================] - 0s 4ms/step - loss: 0.6631 - accuracy: 0.7561 - val_loss: 0.6539 - val_accuracy: 0.7390\n",
      "Epoch 149/200\n",
      "30/30 [==============================] - 0s 4ms/step - loss: 0.6679 - accuracy: 0.7497 - val_loss: 0.6549 - val_accuracy: 0.7360\n",
      "Epoch 150/200\n",
      "30/30 [==============================] - 0s 4ms/step - loss: 0.6580 - accuracy: 0.7563 - val_loss: 0.6554 - val_accuracy: 0.7390\n",
      "Epoch 151/200\n",
      "30/30 [==============================] - 0s 4ms/step - loss: 0.6698 - accuracy: 0.7468 - val_loss: 0.6537 - val_accuracy: 0.7360\n",
      "Epoch 152/200\n",
      "30/30 [==============================] - 0s 4ms/step - loss: 0.6644 - accuracy: 0.7491 - val_loss: 0.6521 - val_accuracy: 0.7370\n",
      "Epoch 153/200\n",
      "30/30 [==============================] - 0s 4ms/step - loss: 0.6566 - accuracy: 0.7548 - val_loss: 0.6534 - val_accuracy: 0.7390\n",
      "Epoch 154/200\n",
      "30/30 [==============================] - 0s 4ms/step - loss: 0.6530 - accuracy: 0.7541 - val_loss: 0.6499 - val_accuracy: 0.7410\n",
      "Epoch 155/200\n",
      "30/30 [==============================] - 0s 4ms/step - loss: 0.6557 - accuracy: 0.7484 - val_loss: 0.6500 - val_accuracy: 0.7390\n",
      "Epoch 156/200\n",
      "30/30 [==============================] - 0s 4ms/step - loss: 0.6509 - accuracy: 0.7588 - val_loss: 0.6496 - val_accuracy: 0.7420\n",
      "Epoch 157/200\n",
      "30/30 [==============================] - 0s 4ms/step - loss: 0.6453 - accuracy: 0.7573 - val_loss: 0.6492 - val_accuracy: 0.7420\n",
      "Epoch 158/200\n",
      "30/30 [==============================] - 0s 4ms/step - loss: 0.6550 - accuracy: 0.7525 - val_loss: 0.6515 - val_accuracy: 0.7400\n",
      "Epoch 159/200\n",
      "30/30 [==============================] - 0s 4ms/step - loss: 0.6533 - accuracy: 0.7551 - val_loss: 0.6520 - val_accuracy: 0.7370\n",
      "Epoch 160/200\n",
      "30/30 [==============================] - 0s 4ms/step - loss: 0.6358 - accuracy: 0.7615 - val_loss: 0.6473 - val_accuracy: 0.7380\n",
      "Epoch 161/200\n",
      "30/30 [==============================] - 0s 4ms/step - loss: 0.6350 - accuracy: 0.7612 - val_loss: 0.6463 - val_accuracy: 0.7420\n",
      "Epoch 162/200\n",
      "30/30 [==============================] - 0s 4ms/step - loss: 0.6456 - accuracy: 0.7572 - val_loss: 0.6448 - val_accuracy: 0.7430\n",
      "Epoch 163/200\n",
      "30/30 [==============================] - 0s 4ms/step - loss: 0.6384 - accuracy: 0.7607 - val_loss: 0.6458 - val_accuracy: 0.7390\n",
      "Epoch 164/200\n",
      "30/30 [==============================] - 0s 4ms/step - loss: 0.6368 - accuracy: 0.7609 - val_loss: 0.6453 - val_accuracy: 0.7360\n",
      "Epoch 165/200\n",
      "30/30 [==============================] - 0s 4ms/step - loss: 0.6378 - accuracy: 0.7593 - val_loss: 0.6437 - val_accuracy: 0.7400\n",
      "Epoch 166/200\n",
      "30/30 [==============================] - 0s 4ms/step - loss: 0.6374 - accuracy: 0.7659 - val_loss: 0.6452 - val_accuracy: 0.7380\n",
      "Epoch 167/200\n",
      "30/30 [==============================] - 0s 4ms/step - loss: 0.6253 - accuracy: 0.7696 - val_loss: 0.6436 - val_accuracy: 0.7390\n",
      "Epoch 168/200\n",
      "30/30 [==============================] - 0s 4ms/step - loss: 0.6376 - accuracy: 0.7605 - val_loss: 0.6438 - val_accuracy: 0.7420\n",
      "Epoch 169/200\n",
      "30/30 [==============================] - 0s 4ms/step - loss: 0.6236 - accuracy: 0.7697 - val_loss: 0.6452 - val_accuracy: 0.7370\n",
      "Epoch 170/200\n",
      "30/30 [==============================] - 0s 4ms/step - loss: 0.6259 - accuracy: 0.7608 - val_loss: 0.6450 - val_accuracy: 0.7360\n",
      "Epoch 171/200\n",
      "30/30 [==============================] - 0s 4ms/step - loss: 0.6167 - accuracy: 0.7713 - val_loss: 0.6427 - val_accuracy: 0.7410\n",
      "Epoch 172/200\n",
      "30/30 [==============================] - 0s 4ms/step - loss: 0.6166 - accuracy: 0.7685 - val_loss: 0.6418 - val_accuracy: 0.7400\n",
      "Epoch 173/200\n"
     ]
    },
    {
     "name": "stdout",
     "output_type": "stream",
     "text": [
      "30/30 [==============================] - 0s 4ms/step - loss: 0.6107 - accuracy: 0.7724 - val_loss: 0.6426 - val_accuracy: 0.7370\n",
      "Epoch 174/200\n",
      "30/30 [==============================] - 0s 4ms/step - loss: 0.6186 - accuracy: 0.7664 - val_loss: 0.6416 - val_accuracy: 0.7380\n",
      "Epoch 175/200\n",
      "30/30 [==============================] - 0s 4ms/step - loss: 0.6081 - accuracy: 0.7727 - val_loss: 0.6445 - val_accuracy: 0.7350\n",
      "Epoch 176/200\n",
      "30/30 [==============================] - 0s 4ms/step - loss: 0.6002 - accuracy: 0.7724 - val_loss: 0.6415 - val_accuracy: 0.7420\n",
      "Epoch 177/200\n",
      "30/30 [==============================] - 0s 4ms/step - loss: 0.6137 - accuracy: 0.7704 - val_loss: 0.6384 - val_accuracy: 0.7440\n",
      "Epoch 178/200\n",
      "30/30 [==============================] - 0s 4ms/step - loss: 0.6060 - accuracy: 0.7699 - val_loss: 0.6395 - val_accuracy: 0.7430\n",
      "Epoch 179/200\n",
      "30/30 [==============================] - 0s 4ms/step - loss: 0.5953 - accuracy: 0.7755 - val_loss: 0.6405 - val_accuracy: 0.7390\n",
      "Epoch 180/200\n",
      "30/30 [==============================] - 0s 4ms/step - loss: 0.5936 - accuracy: 0.7715 - val_loss: 0.6383 - val_accuracy: 0.7460\n",
      "Epoch 181/200\n",
      "30/30 [==============================] - 0s 4ms/step - loss: 0.5963 - accuracy: 0.7745 - val_loss: 0.6405 - val_accuracy: 0.7380\n",
      "Epoch 182/200\n",
      "30/30 [==============================] - 0s 4ms/step - loss: 0.5956 - accuracy: 0.7776 - val_loss: 0.6385 - val_accuracy: 0.7410\n",
      "Epoch 183/200\n",
      "30/30 [==============================] - 0s 4ms/step - loss: 0.5985 - accuracy: 0.7763 - val_loss: 0.6372 - val_accuracy: 0.7370\n",
      "Epoch 184/200\n",
      "30/30 [==============================] - 0s 4ms/step - loss: 0.5874 - accuracy: 0.7759 - val_loss: 0.6388 - val_accuracy: 0.7350\n",
      "Epoch 185/200\n",
      "30/30 [==============================] - 0s 4ms/step - loss: 0.5923 - accuracy: 0.7757 - val_loss: 0.6375 - val_accuracy: 0.7400\n",
      "Epoch 186/200\n",
      "30/30 [==============================] - 0s 4ms/step - loss: 0.5769 - accuracy: 0.7815 - val_loss: 0.6369 - val_accuracy: 0.7390\n",
      "Epoch 187/200\n",
      "30/30 [==============================] - 0s 4ms/step - loss: 0.5823 - accuracy: 0.7836 - val_loss: 0.6406 - val_accuracy: 0.7390\n",
      "Epoch 188/200\n",
      "30/30 [==============================] - 0s 4ms/step - loss: 0.5888 - accuracy: 0.7821 - val_loss: 0.6383 - val_accuracy: 0.7410\n",
      "Epoch 189/200\n",
      "30/30 [==============================] - 0s 4ms/step - loss: 0.5867 - accuracy: 0.7764 - val_loss: 0.6375 - val_accuracy: 0.7430\n",
      "Epoch 190/200\n",
      "30/30 [==============================] - 0s 4ms/step - loss: 0.5918 - accuracy: 0.7809 - val_loss: 0.6373 - val_accuracy: 0.7430\n",
      "Epoch 191/200\n",
      "30/30 [==============================] - 0s 4ms/step - loss: 0.5695 - accuracy: 0.7851 - val_loss: 0.6385 - val_accuracy: 0.7380\n",
      "Epoch 192/200\n",
      "30/30 [==============================] - 0s 4ms/step - loss: 0.5838 - accuracy: 0.7805 - val_loss: 0.6354 - val_accuracy: 0.7400\n",
      "Epoch 193/200\n",
      "30/30 [==============================] - 0s 4ms/step - loss: 0.5822 - accuracy: 0.7865 - val_loss: 0.6363 - val_accuracy: 0.7380\n",
      "Epoch 194/200\n",
      "30/30 [==============================] - 0s 4ms/step - loss: 0.5771 - accuracy: 0.7849 - val_loss: 0.6358 - val_accuracy: 0.7410\n",
      "Epoch 195/200\n",
      "30/30 [==============================] - 0s 5ms/step - loss: 0.5765 - accuracy: 0.7833 - val_loss: 0.6362 - val_accuracy: 0.7390\n",
      "Epoch 196/200\n",
      "30/30 [==============================] - 0s 4ms/step - loss: 0.5624 - accuracy: 0.7867 - val_loss: 0.6368 - val_accuracy: 0.7390\n",
      "Epoch 197/200\n",
      "30/30 [==============================] - 0s 4ms/step - loss: 0.5614 - accuracy: 0.7857 - val_loss: 0.6341 - val_accuracy: 0.7400\n",
      "Epoch 198/200\n",
      "30/30 [==============================] - 0s 4ms/step - loss: 0.5614 - accuracy: 0.7875 - val_loss: 0.6363 - val_accuracy: 0.7360\n",
      "Epoch 199/200\n",
      "30/30 [==============================] - 0s 4ms/step - loss: 0.5656 - accuracy: 0.7821 - val_loss: 0.6350 - val_accuracy: 0.7400\n",
      "Epoch 200/200\n",
      "30/30 [==============================] - ETA: 0s - loss: 0.5486 - accuracy: 0.79 - 0s 4ms/step - loss: 0.5556 - accuracy: 0.7841 - val_loss: 0.6380 - val_accuracy: 0.7360\n"
     ]
    }
   ],
   "source": [
    "model = Sequential()\n",
    "model.add(Dense(50, activation = 'relu',input_shape = (2000, ))) \n",
    "model.add(Dropout(0.3))\n",
    "model.add(Dense(25, activation = 'relu'))\n",
    "model.add(Dropout(0.3))\n",
    "model.add(Dense(7, activation = 'softmax'))\n",
    "\n",
    "model.compile(optimizer='SGD',\n",
    "              loss='categorical_crossentropy',\n",
    "              metrics=['accuracy'])\n",
    "\n",
    "l2_model = model.fit(train_final,\n",
    "                    label_train_final,\n",
    "                    epochs=200,\n",
    "                    batch_size=256,\n",
    "                    validation_data=(val, label_val))"
   ]
  },
  {
   "cell_type": "markdown",
   "metadata": {},
   "source": [
    "Now, let's check the results from `model.evaluate` to see how this change has affected our training. "
   ]
  },
  {
   "cell_type": "code",
   "execution_count": 56,
   "metadata": {
    "scrolled": true
   },
   "outputs": [
    {
     "name": "stdout",
     "output_type": "stream",
     "text": [
      "235/235 [==============================] - 0s 476us/step - loss: 0.3919 - accuracy: 0.8571\n",
      "47/47 [==============================] - 0s 510us/step - loss: 0.6049 - accuracy: 0.7607\n"
     ]
    }
   ],
   "source": [
    "results_train = model.evaluate(train_final, label_train_final)\n",
    "results_test = model.evaluate(test, label_test)"
   ]
  },
  {
   "cell_type": "code",
   "execution_count": 57,
   "metadata": {},
   "outputs": [
    {
     "data": {
      "text/plain": [
       "[0.39189019799232483, 0.8570666909217834]"
      ]
     },
     "execution_count": 57,
     "metadata": {},
     "output_type": "execute_result"
    }
   ],
   "source": [
    "results_train # Expected Results: [0.36925017188787462, 0.88026666666666664]"
   ]
  },
  {
   "cell_type": "code",
   "execution_count": 58,
   "metadata": {},
   "outputs": [
    {
     "data": {
      "text/plain": [
       "[0.604900062084198, 0.7606666684150696]"
      ]
     },
     "execution_count": 58,
     "metadata": {},
     "output_type": "execute_result"
    }
   ],
   "source": [
    "results_test # Expected Results: [0.69210424280166627, 0.74333333365122478]"
   ]
  },
  {
   "cell_type": "markdown",
   "metadata": {},
   "source": [
    "You can see here that the validation performance has improved again! However, the variance did become higher again, compared to L1-regularization."
   ]
  },
  {
   "cell_type": "markdown",
   "metadata": {},
   "source": [
    "## 7.  More Training Data?"
   ]
  },
  {
   "cell_type": "markdown",
   "metadata": {},
   "source": [
    "Another solution to high variance is to just get more data. We actually *have* more data, but took a subset of 10,000 units before. Let's now quadruple our data set, and see what happens. Note that we are really just lucky here, and getting more data isn't always possible, but this is a useful exercise in order to understand the power of big data sets.\n",
    "\n",
    "Run the cell below to preprocess our entire dataset, instead of just working with a subset of the data.  "
   ]
  },
  {
   "cell_type": "code",
   "execution_count": 59,
   "metadata": {},
   "outputs": [],
   "source": [
    "df = pd.read_csv('Bank_complaints.csv')\n",
    "random.seed(123)\n",
    "df = df.sample(40000)\n",
    "df.index = range(40000)\n",
    "product = df[\"Product\"]\n",
    "complaints = df[\"Consumer complaint narrative\"]\n",
    "\n",
    "#one-hot encoding of the complaints\n",
    "tokenizer = Tokenizer(num_words=2000)\n",
    "tokenizer.fit_on_texts(complaints)\n",
    "sequences = tokenizer.texts_to_sequences(complaints)\n",
    "one_hot_results= tokenizer.texts_to_matrix(complaints, mode='binary')\n",
    "word_index = tokenizer.word_index\n",
    "np.shape(one_hot_results)\n",
    "\n",
    "#one-hot encoding of products\n",
    "le = preprocessing.LabelEncoder()\n",
    "le.fit(product)\n",
    "list(le.classes_)\n",
    "product_cat = le.transform(product) \n",
    "product_onehot = to_categorical(product_cat)\n",
    "\n",
    "# train test split\n",
    "test_index = random.sample(range(1,40000), 4000)\n",
    "test = one_hot_results[test_index]\n",
    "train = np.delete(one_hot_results, test_index, 0)\n",
    "label_test = product_onehot[test_index]\n",
    "label_train = np.delete(product_onehot, test_index, 0)\n",
    "\n",
    "#Validation set\n",
    "random.seed(123)\n",
    "val = train[:3000]\n",
    "train_final = train[3000:]\n",
    "label_val = label_train[:3000]\n",
    "label_train_final = label_train[3000:]"
   ]
  },
  {
   "cell_type": "markdown",
   "metadata": {},
   "source": [
    "Now, build the first model that we built, without any regularization or dropout layers included. \n",
    "\n",
    "Train this model for 120 epochs.  All other hyperparameters should stay the same.  Store the fitted model inside of `moredata_model`.  "
   ]
  },
  {
   "cell_type": "code",
   "execution_count": 60,
   "metadata": {},
   "outputs": [
    {
     "name": "stdout",
     "output_type": "stream",
     "text": [
      "Epoch 1/120\n",
      "129/129 [==============================] - 0s 4ms/step - loss: 1.9096 - accuracy: 0.2065 - val_loss: 1.8787 - val_accuracy: 0.2443\n",
      "Epoch 2/120\n",
      "129/129 [==============================] - ETA: 0s - loss: 1.8308 - accuracy: 0.30 - 0s 4ms/step - loss: 1.8263 - accuracy: 0.3098 - val_loss: 1.7769 - val_accuracy: 0.3420\n",
      "Epoch 3/120\n",
      "129/129 [==============================] - 1s 4ms/step - loss: 1.6853 - accuracy: 0.4144 - val_loss: 1.6001 - val_accuracy: 0.4650\n",
      "Epoch 4/120\n",
      "129/129 [==============================] - 0s 3ms/step - loss: 1.4814 - accuracy: 0.5198 - val_loss: 1.3862 - val_accuracy: 0.5567\n",
      "Epoch 5/120\n",
      "129/129 [==============================] - 0s 3ms/step - loss: 1.2737 - accuracy: 0.5988 - val_loss: 1.1940 - val_accuracy: 0.6350\n",
      "Epoch 6/120\n",
      "129/129 [==============================] - 0s 3ms/step - loss: 1.0976 - accuracy: 0.6551 - val_loss: 1.0413 - val_accuracy: 0.6707\n",
      "Epoch 7/120\n",
      "129/129 [==============================] - 0s 3ms/step - loss: 0.9628 - accuracy: 0.6902 - val_loss: 0.9300 - val_accuracy: 0.6970\n",
      "Epoch 8/120\n",
      "129/129 [==============================] - 0s 3ms/step - loss: 0.8663 - accuracy: 0.7143 - val_loss: 0.8518 - val_accuracy: 0.7153\n",
      "Epoch 9/120\n",
      "129/129 [==============================] - 0s 3ms/step - loss: 0.7971 - accuracy: 0.7303 - val_loss: 0.7957 - val_accuracy: 0.7287\n",
      "Epoch 10/120\n",
      "129/129 [==============================] - 0s 3ms/step - loss: 0.7464 - accuracy: 0.7425 - val_loss: 0.7545 - val_accuracy: 0.7397\n",
      "Epoch 11/120\n",
      "129/129 [==============================] - 0s 3ms/step - loss: 0.7081 - accuracy: 0.7534 - val_loss: 0.7237 - val_accuracy: 0.7463\n",
      "Epoch 12/120\n",
      "129/129 [==============================] - 0s 4ms/step - loss: 0.6780 - accuracy: 0.7603 - val_loss: 0.6998 - val_accuracy: 0.7540\n",
      "Epoch 13/120\n",
      "129/129 [==============================] - 0s 3ms/step - loss: 0.6541 - accuracy: 0.7682 - val_loss: 0.6812 - val_accuracy: 0.7567\n",
      "Epoch 14/120\n",
      "129/129 [==============================] - 0s 4ms/step - loss: 0.6341 - accuracy: 0.7723 - val_loss: 0.6644 - val_accuracy: 0.7630\n",
      "Epoch 15/120\n",
      "129/129 [==============================] - 0s 3ms/step - loss: 0.6172 - accuracy: 0.7793 - val_loss: 0.6511 - val_accuracy: 0.7690\n",
      "Epoch 16/120\n",
      "129/129 [==============================] - 1s 5ms/step - loss: 0.6022 - accuracy: 0.7840 - val_loss: 0.6401 - val_accuracy: 0.7780\n",
      "Epoch 17/120\n",
      "129/129 [==============================] - 1s 4ms/step - loss: 0.5895 - accuracy: 0.7870 - val_loss: 0.6323 - val_accuracy: 0.7743\n",
      "Epoch 18/120\n",
      "129/129 [==============================] - 1s 4ms/step - loss: 0.5778 - accuracy: 0.7921 - val_loss: 0.6223 - val_accuracy: 0.7800\n",
      "Epoch 19/120\n",
      "129/129 [==============================] - 0s 4ms/step - loss: 0.5674 - accuracy: 0.7954 - val_loss: 0.6159 - val_accuracy: 0.7860\n",
      "Epoch 20/120\n",
      "129/129 [==============================] - 0s 4ms/step - loss: 0.5578 - accuracy: 0.8000 - val_loss: 0.6089 - val_accuracy: 0.7887\n",
      "Epoch 21/120\n",
      "129/129 [==============================] - 0s 4ms/step - loss: 0.5490 - accuracy: 0.8025 - val_loss: 0.6034 - val_accuracy: 0.7887\n",
      "Epoch 22/120\n",
      "129/129 [==============================] - 0s 4ms/step - loss: 0.5409 - accuracy: 0.8055 - val_loss: 0.5970 - val_accuracy: 0.7900\n",
      "Epoch 23/120\n",
      "129/129 [==============================] - 0s 3ms/step - loss: 0.5330 - accuracy: 0.8082 - val_loss: 0.5938 - val_accuracy: 0.7930\n",
      "Epoch 24/120\n",
      "129/129 [==============================] - 1s 4ms/step - loss: 0.5261 - accuracy: 0.8104 - val_loss: 0.5890 - val_accuracy: 0.7930\n",
      "Epoch 25/120\n",
      "129/129 [==============================] - 0s 3ms/step - loss: 0.5193 - accuracy: 0.8143 - val_loss: 0.5856 - val_accuracy: 0.7963\n",
      "Epoch 26/120\n",
      "129/129 [==============================] - 1s 4ms/step - loss: 0.5128 - accuracy: 0.8165 - val_loss: 0.5812 - val_accuracy: 0.7963\n",
      "Epoch 27/120\n",
      "129/129 [==============================] - 0s 4ms/step - loss: 0.5069 - accuracy: 0.8182 - val_loss: 0.5776 - val_accuracy: 0.7953\n",
      "Epoch 28/120\n",
      "129/129 [==============================] - 0s 4ms/step - loss: 0.5007 - accuracy: 0.8208 - val_loss: 0.5748 - val_accuracy: 0.7990\n",
      "Epoch 29/120\n",
      "129/129 [==============================] - 0s 4ms/step - loss: 0.4952 - accuracy: 0.8223 - val_loss: 0.5728 - val_accuracy: 0.7980\n",
      "Epoch 30/120\n",
      "129/129 [==============================] - 1s 4ms/step - loss: 0.4900 - accuracy: 0.8251 - val_loss: 0.5689 - val_accuracy: 0.7990\n",
      "Epoch 31/120\n",
      "129/129 [==============================] - 0s 3ms/step - loss: 0.4852 - accuracy: 0.8260 - val_loss: 0.5665 - val_accuracy: 0.7950\n",
      "Epoch 32/120\n",
      "129/129 [==============================] - 1s 4ms/step - loss: 0.4800 - accuracy: 0.8285 - val_loss: 0.5663 - val_accuracy: 0.7970\n",
      "Epoch 33/120\n",
      "129/129 [==============================] - 0s 3ms/step - loss: 0.4755 - accuracy: 0.8306 - val_loss: 0.5632 - val_accuracy: 0.7997\n",
      "Epoch 34/120\n",
      "129/129 [==============================] - 0s 3ms/step - loss: 0.4710 - accuracy: 0.8328 - val_loss: 0.5606 - val_accuracy: 0.8040\n",
      "Epoch 35/120\n",
      "129/129 [==============================] - 0s 3ms/step - loss: 0.4667 - accuracy: 0.8345 - val_loss: 0.5615 - val_accuracy: 0.8010\n",
      "Epoch 36/120\n",
      "129/129 [==============================] - 0s 4ms/step - loss: 0.4625 - accuracy: 0.8364 - val_loss: 0.5587 - val_accuracy: 0.8013\n",
      "Epoch 37/120\n",
      "129/129 [==============================] - 0s 3ms/step - loss: 0.4584 - accuracy: 0.8363 - val_loss: 0.5570 - val_accuracy: 0.8007\n",
      "Epoch 38/120\n",
      "129/129 [==============================] - 0s 3ms/step - loss: 0.4547 - accuracy: 0.8394 - val_loss: 0.5545 - val_accuracy: 0.8050\n",
      "Epoch 39/120\n",
      "129/129 [==============================] - 0s 4ms/step - loss: 0.4508 - accuracy: 0.8408 - val_loss: 0.5540 - val_accuracy: 0.8083\n",
      "Epoch 40/120\n",
      "129/129 [==============================] - 0s 4ms/step - loss: 0.4475 - accuracy: 0.8420 - val_loss: 0.5526 - val_accuracy: 0.8087\n",
      "Epoch 41/120\n",
      "129/129 [==============================] - 0s 3ms/step - loss: 0.4437 - accuracy: 0.8430 - val_loss: 0.5523 - val_accuracy: 0.8100\n",
      "Epoch 42/120\n",
      "129/129 [==============================] - 0s 3ms/step - loss: 0.4402 - accuracy: 0.8437 - val_loss: 0.5538 - val_accuracy: 0.8083\n",
      "Epoch 43/120\n",
      "129/129 [==============================] - 0s 3ms/step - loss: 0.4370 - accuracy: 0.8457 - val_loss: 0.5508 - val_accuracy: 0.8110\n",
      "Epoch 44/120\n",
      "129/129 [==============================] - 0s 3ms/step - loss: 0.4336 - accuracy: 0.8465 - val_loss: 0.5500 - val_accuracy: 0.8090\n",
      "Epoch 45/120\n",
      "129/129 [==============================] - 0s 3ms/step - loss: 0.4307 - accuracy: 0.8479 - val_loss: 0.5496 - val_accuracy: 0.8077\n",
      "Epoch 46/120\n",
      "129/129 [==============================] - 0s 3ms/step - loss: 0.4276 - accuracy: 0.8483 - val_loss: 0.5476 - val_accuracy: 0.8097\n",
      "Epoch 47/120\n",
      "129/129 [==============================] - 0s 3ms/step - loss: 0.4241 - accuracy: 0.8505 - val_loss: 0.5481 - val_accuracy: 0.8107\n",
      "Epoch 48/120\n",
      "129/129 [==============================] - 0s 3ms/step - loss: 0.4216 - accuracy: 0.8497 - val_loss: 0.5465 - val_accuracy: 0.8100\n",
      "Epoch 49/120\n",
      "129/129 [==============================] - 0s 3ms/step - loss: 0.4185 - accuracy: 0.8527 - val_loss: 0.5469 - val_accuracy: 0.8077\n",
      "Epoch 50/120\n",
      "129/129 [==============================] - 0s 3ms/step - loss: 0.4159 - accuracy: 0.8530 - val_loss: 0.5489 - val_accuracy: 0.8130\n",
      "Epoch 51/120\n",
      "129/129 [==============================] - 0s 3ms/step - loss: 0.4129 - accuracy: 0.8548 - val_loss: 0.5464 - val_accuracy: 0.8103\n",
      "Epoch 52/120\n",
      "129/129 [==============================] - 0s 3ms/step - loss: 0.4105 - accuracy: 0.8557 - val_loss: 0.5447 - val_accuracy: 0.8097\n",
      "Epoch 53/120\n",
      "129/129 [==============================] - 0s 3ms/step - loss: 0.4078 - accuracy: 0.8567 - val_loss: 0.5445 - val_accuracy: 0.8083\n",
      "Epoch 54/120\n",
      "129/129 [==============================] - 0s 4ms/step - loss: 0.4053 - accuracy: 0.8579 - val_loss: 0.5462 - val_accuracy: 0.8093\n",
      "Epoch 55/120\n",
      "129/129 [==============================] - 0s 4ms/step - loss: 0.4028 - accuracy: 0.8577 - val_loss: 0.5452 - val_accuracy: 0.8093\n",
      "Epoch 56/120\n",
      "129/129 [==============================] - 0s 3ms/step - loss: 0.4005 - accuracy: 0.8593 - val_loss: 0.5442 - val_accuracy: 0.8103\n",
      "Epoch 57/120\n"
     ]
    },
    {
     "name": "stdout",
     "output_type": "stream",
     "text": [
      "129/129 [==============================] - 0s 3ms/step - loss: 0.3980 - accuracy: 0.8608 - val_loss: 0.5487 - val_accuracy: 0.8080\n",
      "Epoch 58/120\n",
      "129/129 [==============================] - 0s 3ms/step - loss: 0.3955 - accuracy: 0.8608 - val_loss: 0.5476 - val_accuracy: 0.8073\n",
      "Epoch 59/120\n",
      "129/129 [==============================] - 0s 3ms/step - loss: 0.3937 - accuracy: 0.8627 - val_loss: 0.5451 - val_accuracy: 0.8087\n",
      "Epoch 60/120\n",
      "129/129 [==============================] - 0s 3ms/step - loss: 0.3913 - accuracy: 0.8628 - val_loss: 0.5452 - val_accuracy: 0.8080\n",
      "Epoch 61/120\n",
      "129/129 [==============================] - 0s 3ms/step - loss: 0.3892 - accuracy: 0.8635 - val_loss: 0.5446 - val_accuracy: 0.8077\n",
      "Epoch 62/120\n",
      "129/129 [==============================] - 0s 3ms/step - loss: 0.3868 - accuracy: 0.8645 - val_loss: 0.5451 - val_accuracy: 0.8110\n",
      "Epoch 63/120\n",
      "129/129 [==============================] - 0s 3ms/step - loss: 0.3850 - accuracy: 0.8642 - val_loss: 0.5464 - val_accuracy: 0.8110\n",
      "Epoch 64/120\n",
      "129/129 [==============================] - 0s 3ms/step - loss: 0.3827 - accuracy: 0.8659 - val_loss: 0.5446 - val_accuracy: 0.8083\n",
      "Epoch 65/120\n",
      "129/129 [==============================] - 0s 4ms/step - loss: 0.3808 - accuracy: 0.8659 - val_loss: 0.5461 - val_accuracy: 0.8120\n",
      "Epoch 66/120\n",
      "129/129 [==============================] - 0s 4ms/step - loss: 0.3784 - accuracy: 0.8677 - val_loss: 0.5485 - val_accuracy: 0.8087\n",
      "Epoch 67/120\n",
      "129/129 [==============================] - 1s 4ms/step - loss: 0.3769 - accuracy: 0.8670 - val_loss: 0.5462 - val_accuracy: 0.8117\n",
      "Epoch 68/120\n",
      "129/129 [==============================] - 0s 3ms/step - loss: 0.3750 - accuracy: 0.8678 - val_loss: 0.5457 - val_accuracy: 0.8107\n",
      "Epoch 69/120\n",
      "129/129 [==============================] - 0s 3ms/step - loss: 0.3727 - accuracy: 0.8699 - val_loss: 0.5463 - val_accuracy: 0.8097\n",
      "Epoch 70/120\n",
      "129/129 [==============================] - 0s 3ms/step - loss: 0.3709 - accuracy: 0.8697 - val_loss: 0.5465 - val_accuracy: 0.8097\n",
      "Epoch 71/120\n",
      "129/129 [==============================] - 0s 4ms/step - loss: 0.3691 - accuracy: 0.8704 - val_loss: 0.5483 - val_accuracy: 0.8087\n",
      "Epoch 72/120\n",
      "129/129 [==============================] - 0s 3ms/step - loss: 0.3674 - accuracy: 0.8718 - val_loss: 0.5483 - val_accuracy: 0.8117\n",
      "Epoch 73/120\n",
      "129/129 [==============================] - 0s 3ms/step - loss: 0.3655 - accuracy: 0.8718 - val_loss: 0.5492 - val_accuracy: 0.8123\n",
      "Epoch 74/120\n",
      "129/129 [==============================] - 0s 3ms/step - loss: 0.3635 - accuracy: 0.8732 - val_loss: 0.5480 - val_accuracy: 0.8103\n",
      "Epoch 75/120\n",
      "129/129 [==============================] - 0s 3ms/step - loss: 0.3617 - accuracy: 0.8731 - val_loss: 0.5484 - val_accuracy: 0.8113\n",
      "Epoch 76/120\n",
      "129/129 [==============================] - 0s 4ms/step - loss: 0.3603 - accuracy: 0.8738 - val_loss: 0.5507 - val_accuracy: 0.8107\n",
      "Epoch 77/120\n",
      "129/129 [==============================] - 1s 4ms/step - loss: 0.3587 - accuracy: 0.8744 - val_loss: 0.5513 - val_accuracy: 0.8110\n",
      "Epoch 78/120\n",
      "129/129 [==============================] - 0s 4ms/step - loss: 0.3568 - accuracy: 0.8751 - val_loss: 0.5549 - val_accuracy: 0.8103\n",
      "Epoch 79/120\n",
      "129/129 [==============================] - 0s 4ms/step - loss: 0.3552 - accuracy: 0.8758 - val_loss: 0.5511 - val_accuracy: 0.8120\n",
      "Epoch 80/120\n",
      "129/129 [==============================] - 0s 3ms/step - loss: 0.3537 - accuracy: 0.8760 - val_loss: 0.5508 - val_accuracy: 0.8107\n",
      "Epoch 81/120\n",
      "129/129 [==============================] - 0s 3ms/step - loss: 0.3518 - accuracy: 0.8766 - val_loss: 0.5518 - val_accuracy: 0.8117\n",
      "Epoch 82/120\n",
      "129/129 [==============================] - 0s 3ms/step - loss: 0.3503 - accuracy: 0.8775 - val_loss: 0.5523 - val_accuracy: 0.8107\n",
      "Epoch 83/120\n",
      "129/129 [==============================] - 0s 3ms/step - loss: 0.3490 - accuracy: 0.8782 - val_loss: 0.5550 - val_accuracy: 0.8133\n",
      "Epoch 84/120\n",
      "129/129 [==============================] - 0s 3ms/step - loss: 0.3471 - accuracy: 0.8795 - val_loss: 0.5539 - val_accuracy: 0.8093\n",
      "Epoch 85/120\n",
      "129/129 [==============================] - 0s 3ms/step - loss: 0.3458 - accuracy: 0.8791 - val_loss: 0.5543 - val_accuracy: 0.8120\n",
      "Epoch 86/120\n",
      "129/129 [==============================] - 0s 3ms/step - loss: 0.3439 - accuracy: 0.8799 - val_loss: 0.5566 - val_accuracy: 0.8100\n",
      "Epoch 87/120\n",
      "129/129 [==============================] - 0s 3ms/step - loss: 0.3430 - accuracy: 0.8804 - val_loss: 0.5575 - val_accuracy: 0.8130\n",
      "Epoch 88/120\n",
      "129/129 [==============================] - 0s 3ms/step - loss: 0.3412 - accuracy: 0.8811 - val_loss: 0.5563 - val_accuracy: 0.8113\n",
      "Epoch 89/120\n",
      "129/129 [==============================] - 0s 3ms/step - loss: 0.3396 - accuracy: 0.8820 - val_loss: 0.5599 - val_accuracy: 0.8140\n",
      "Epoch 90/120\n",
      "129/129 [==============================] - 0s 3ms/step - loss: 0.3380 - accuracy: 0.8816 - val_loss: 0.5580 - val_accuracy: 0.8093\n",
      "Epoch 91/120\n",
      "129/129 [==============================] - 0s 3ms/step - loss: 0.3368 - accuracy: 0.8832 - val_loss: 0.5627 - val_accuracy: 0.8113\n",
      "Epoch 92/120\n",
      "129/129 [==============================] - 0s 3ms/step - loss: 0.3354 - accuracy: 0.8834 - val_loss: 0.5628 - val_accuracy: 0.8093\n",
      "Epoch 93/120\n",
      "129/129 [==============================] - 0s 3ms/step - loss: 0.3341 - accuracy: 0.8830 - val_loss: 0.5615 - val_accuracy: 0.8103\n",
      "Epoch 94/120\n",
      "129/129 [==============================] - 0s 3ms/step - loss: 0.3330 - accuracy: 0.8848 - val_loss: 0.5624 - val_accuracy: 0.8073\n",
      "Epoch 95/120\n",
      "129/129 [==============================] - 0s 3ms/step - loss: 0.3315 - accuracy: 0.8843 - val_loss: 0.5631 - val_accuracy: 0.8073\n",
      "Epoch 96/120\n",
      "129/129 [==============================] - 0s 3ms/step - loss: 0.3298 - accuracy: 0.8849 - val_loss: 0.5627 - val_accuracy: 0.8090\n",
      "Epoch 97/120\n",
      "129/129 [==============================] - 0s 3ms/step - loss: 0.3283 - accuracy: 0.8856 - val_loss: 0.5646 - val_accuracy: 0.8097\n",
      "Epoch 98/120\n",
      "129/129 [==============================] - 0s 3ms/step - loss: 0.3272 - accuracy: 0.8860 - val_loss: 0.5645 - val_accuracy: 0.8077\n",
      "Epoch 99/120\n",
      "129/129 [==============================] - 0s 3ms/step - loss: 0.3260 - accuracy: 0.8866 - val_loss: 0.5658 - val_accuracy: 0.8073\n",
      "Epoch 100/120\n",
      "129/129 [==============================] - 0s 4ms/step - loss: 0.3246 - accuracy: 0.8868 - val_loss: 0.5687 - val_accuracy: 0.8060\n",
      "Epoch 101/120\n",
      "129/129 [==============================] - 0s 4ms/step - loss: 0.3236 - accuracy: 0.8866 - val_loss: 0.5687 - val_accuracy: 0.8043\n",
      "Epoch 102/120\n",
      "129/129 [==============================] - 0s 4ms/step - loss: 0.3219 - accuracy: 0.8879 - val_loss: 0.5673 - val_accuracy: 0.8093\n",
      "Epoch 103/120\n",
      "129/129 [==============================] - 0s 4ms/step - loss: 0.3209 - accuracy: 0.8894 - val_loss: 0.5697 - val_accuracy: 0.8040\n",
      "Epoch 104/120\n",
      "129/129 [==============================] - 1s 4ms/step - loss: 0.3196 - accuracy: 0.8885 - val_loss: 0.5735 - val_accuracy: 0.8100\n",
      "Epoch 105/120\n",
      "129/129 [==============================] - 1s 4ms/step - loss: 0.3182 - accuracy: 0.8895 - val_loss: 0.5712 - val_accuracy: 0.8067\n",
      "Epoch 106/120\n",
      "129/129 [==============================] - 1s 4ms/step - loss: 0.3171 - accuracy: 0.8901 - val_loss: 0.5713 - val_accuracy: 0.8083\n",
      "Epoch 107/120\n",
      "129/129 [==============================] - 0s 3ms/step - loss: 0.3157 - accuracy: 0.8898 - val_loss: 0.5728 - val_accuracy: 0.8080\n",
      "Epoch 108/120\n",
      "129/129 [==============================] - 0s 3ms/step - loss: 0.3147 - accuracy: 0.8915 - val_loss: 0.5759 - val_accuracy: 0.8057\n",
      "Epoch 109/120\n",
      "129/129 [==============================] - 0s 3ms/step - loss: 0.3133 - accuracy: 0.8914 - val_loss: 0.5747 - val_accuracy: 0.8067\n",
      "Epoch 110/120\n",
      "129/129 [==============================] - 0s 3ms/step - loss: 0.3123 - accuracy: 0.8920 - val_loss: 0.5753 - val_accuracy: 0.8040\n",
      "Epoch 111/120\n",
      "129/129 [==============================] - 0s 3ms/step - loss: 0.3109 - accuracy: 0.8932 - val_loss: 0.5758 - val_accuracy: 0.8047\n",
      "Epoch 112/120\n",
      "129/129 [==============================] - 0s 3ms/step - loss: 0.3096 - accuracy: 0.8934 - val_loss: 0.5782 - val_accuracy: 0.8083\n",
      "Epoch 113/120\n",
      "129/129 [==============================] - 0s 3ms/step - loss: 0.3087 - accuracy: 0.8935 - val_loss: 0.5831 - val_accuracy: 0.8027\n"
     ]
    },
    {
     "name": "stdout",
     "output_type": "stream",
     "text": [
      "Epoch 114/120\n",
      "129/129 [==============================] - 0s 3ms/step - loss: 0.3075 - accuracy: 0.8938 - val_loss: 0.5805 - val_accuracy: 0.8040\n",
      "Epoch 115/120\n",
      "129/129 [==============================] - 0s 3ms/step - loss: 0.3064 - accuracy: 0.8942 - val_loss: 0.5815 - val_accuracy: 0.8053\n",
      "Epoch 116/120\n",
      "129/129 [==============================] - 0s 3ms/step - loss: 0.3052 - accuracy: 0.8949 - val_loss: 0.5828 - val_accuracy: 0.8063\n",
      "Epoch 117/120\n",
      "129/129 [==============================] - 0s 3ms/step - loss: 0.3043 - accuracy: 0.8943 - val_loss: 0.5828 - val_accuracy: 0.8063\n",
      "Epoch 118/120\n",
      "129/129 [==============================] - 0s 3ms/step - loss: 0.3027 - accuracy: 0.8957 - val_loss: 0.5844 - val_accuracy: 0.8067\n",
      "Epoch 119/120\n",
      "129/129 [==============================] - 0s 3ms/step - loss: 0.3019 - accuracy: 0.8965 - val_loss: 0.5870 - val_accuracy: 0.8037\n",
      "Epoch 120/120\n",
      "129/129 [==============================] - 0s 3ms/step - loss: 0.3007 - accuracy: 0.8965 - val_loss: 0.5888 - val_accuracy: 0.8077\n"
     ]
    }
   ],
   "source": [
    "model = Sequential()\n",
    "model.add(Dense(50, activation = 'relu', input_shape = (2000, ))) \n",
    "model.add(Dense(25, activation = 'relu'))\n",
    "model.add(Dense(7, activation = 'softmax'))\n",
    "\n",
    "model.compile(optimizer='SGD',\n",
    "              loss='categorical_crossentropy',\n",
    "              metrics=['accuracy'])\n",
    "\n",
    "moredata_val = model.fit(train_final,\n",
    "                    label_train_final,\n",
    "                    epochs=120,\n",
    "                    batch_size=256,\n",
    "                    validation_data=(val, label_val))"
   ]
  },
  {
   "cell_type": "markdown",
   "metadata": {},
   "source": [
    "Now, finally, let's check the results returned from `model.evaluate()` to see how this model stacks up with the other techniques we've used.  "
   ]
  },
  {
   "cell_type": "code",
   "execution_count": 61,
   "metadata": {},
   "outputs": [
    {
     "name": "stdout",
     "output_type": "stream",
     "text": [
      "1032/1032 [==============================] - 1s 516us/step - loss: 0.2967 - accuracy: 0.8989\n",
      "125/125 [==============================] - 0s 752us/step - loss: 0.6203 - accuracy: 0.7918\n"
     ]
    }
   ],
   "source": [
    "results_train = model.evaluate(train_final, label_train_final)\n",
    "results_test = model.evaluate(test, label_test)"
   ]
  },
  {
   "cell_type": "code",
   "execution_count": 62,
   "metadata": {},
   "outputs": [
    {
     "data": {
      "text/plain": [
       "[0.2966914772987366, 0.898878812789917]"
      ]
     },
     "execution_count": 62,
     "metadata": {},
     "output_type": "execute_result"
    }
   ],
   "source": [
    "results_train # Expected Output:  [0.31160746300942971, 0.89160606060606062]"
   ]
  },
  {
   "cell_type": "code",
   "execution_count": 63,
   "metadata": {},
   "outputs": [
    {
     "data": {
      "text/plain": [
       "[0.6202676892280579, 0.7917500138282776]"
      ]
     },
     "execution_count": 63,
     "metadata": {},
     "output_type": "execute_result"
    }
   ],
   "source": [
    "results_test # Expected Output: [0.56076071488857271, 0.8145]"
   ]
  },
  {
   "cell_type": "markdown",
   "metadata": {},
   "source": [
    "With the same amount of epochs, we were able to get a fairly similar validation accuracy of 89.1%. Our test set accuracy went up from ~75% to a staggering 81.45% though, without any other regularization technique. You can still consider early stopping, L1, L2 and dropout here. It's clear that having more data has a strong impact on model performance!"
   ]
  },
  {
   "cell_type": "markdown",
   "metadata": {},
   "source": [
    "## Sources"
   ]
  },
  {
   "cell_type": "markdown",
   "metadata": {},
   "source": [
    "https://github.com/susanli2016/Machine-Learning-with-Python/blob/master/Consumer_complaints.ipynb"
   ]
  },
  {
   "cell_type": "markdown",
   "metadata": {},
   "source": [
    "https://catalog.data.gov/dataset/consumer-complaint-database"
   ]
  },
  {
   "cell_type": "markdown",
   "metadata": {},
   "source": [
    "## Further reading"
   ]
  },
  {
   "cell_type": "markdown",
   "metadata": {},
   "source": [
    "https://machinelearningmastery.com/dropout-regularization-deep-learning-models-keras/"
   ]
  }
 ],
 "metadata": {
  "kernelspec": {
   "display_name": "Python 3",
   "language": "python",
   "name": "python3"
  },
  "language_info": {
   "codemirror_mode": {
    "name": "ipython",
    "version": 3
   },
   "file_extension": ".py",
   "mimetype": "text/x-python",
   "name": "python",
   "nbconvert_exporter": "python",
   "pygments_lexer": "ipython3",
   "version": "3.8.5"
  }
 },
 "nbformat": 4,
 "nbformat_minor": 2
}
